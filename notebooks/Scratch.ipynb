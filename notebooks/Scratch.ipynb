{
 "cells": [
  {
   "cell_type": "code",
   "execution_count": 2,
   "id": "c58533db-d1db-47ab-a0e8-05cebebd31ca",
   "metadata": {},
   "outputs": [
    {
     "name": "stderr",
     "output_type": "stream",
     "text": [
      "/Users/azib/micromamba/envs/nets2/lib/python3.8/site-packages/lightkurve/config/__init__.py:119: UserWarning: The default Lightkurve cache directory, used by download(), etc., has been moved to /Users/azib/.lightkurve/cache. Please move all the files in the legacy directory /Users/azib/.lightkurve-cache to the new location and remove the legacy directory. Refer to https://docs.lightkurve.org/reference/config.html#default-cache-directory-migration for more information.\n",
      "  warnings.warn(\n"
     ]
    }
   ],
   "source": [
    "import tensorflow as tf\n",
    "from tensorflow.keras.models import Sequential\n",
    "from tensorflow.keras.layers import Conv1D, MaxPooling1D, Flatten, Dense, Dropout\n",
    "from tensorflow.keras.optimizers import Adam\n",
    "import stella"
   ]
  },
  {
   "cell_type": "code",
   "execution_count": 7,
   "id": "19b2ec82-469c-465a-8793-9d6363b31a14",
   "metadata": {},
   "outputs": [
    {
     "name": "stderr",
     "output_type": "stream",
     "text": [
      "WARNING:absl:At this time, the v2.11+ optimizer `tf.keras.optimizers.Adam` runs slowly on M1/M2 Macs, please use the legacy Keras optimizer instead, located at `tf.keras.optimizers.legacy.Adam`.\n",
      "WARNING:absl:There is a known slowdown when using v2.11+ Keras optimizers on M1/M2 Macs. Falling back to the legacy Keras optimizer, i.e., `tf.keras.optimizers.legacy.Adam`.\n"
     ]
    },
    {
     "name": "stdout",
     "output_type": "stream",
     "text": [
      "Model: \"sequential_1\"\n",
      "_________________________________________________________________\n",
      " Layer (type)                Output Shape              Param #   \n",
      "=================================================================\n",
      " conv1d_2 (Conv1D)           (None, 144, 32)           320       \n",
      "                                                                 \n",
      " max_pooling1d_2 (MaxPoolin  (None, 72, 32)            0         \n",
      " g1D)                                                            \n",
      "                                                                 \n",
      " dropout_3 (Dropout)         (None, 72, 32)            0         \n",
      "                                                                 \n",
      " conv1d_3 (Conv1D)           (None, 72, 64)            10304     \n",
      "                                                                 \n",
      " max_pooling1d_3 (MaxPoolin  (None, 36, 64)            0         \n",
      " g1D)                                                            \n",
      "                                                                 \n",
      " dropout_4 (Dropout)         (None, 36, 64)            0         \n",
      "                                                                 \n",
      " flatten_1 (Flatten)         (None, 2304)              0         \n",
      "                                                                 \n",
      " dense_2 (Dense)             (None, 64)                147520    \n",
      "                                                                 \n",
      " dropout_5 (Dropout)         (None, 64)                0         \n",
      "                                                                 \n",
      " dense_3 (Dense)             (None, 1)                 65        \n",
      "                                                                 \n",
      "=================================================================\n",
      "Total params: 158209 (618.00 KB)\n",
      "Trainable params: 158209 (618.00 KB)\n",
      "Non-trainable params: 0 (0.00 Byte)\n",
      "_________________________________________________________________\n",
      "Model created successfully!\n"
     ]
    }
   ],
   "source": [
    "\n",
    "# Define the input shape\n",
    "input_shape = (144, 1)\n",
    "\n",
    "# Create the model\n",
    "model = Sequential([\n",
    "    # First Convolutional Layer\n",
    "    Conv1D(filters=32, kernel_size=9, activation='relu', input_shape=input_shape, padding='same'),\n",
    "    MaxPooling1D(pool_size=2),\n",
    "    Dropout(0.2),\n",
    "    \n",
    "    # Second Convolutional Layer\n",
    "    Conv1D(filters=64, kernel_size=5, activation='relu', padding='same'),\n",
    "    MaxPooling1D(pool_size=2),\n",
    "    Dropout(0.2),\n",
    "    \n",
    "    # Flatten layer\n",
    "    Flatten(),\n",
    "    \n",
    "    # Dense layer\n",
    "    Dense(64, activation='relu'),\n",
    "    Dropout(0.3),\n",
    "    \n",
    "    # Output layer\n",
    "    Dense(1, activation='sigmoid')\n",
    "])\n",
    "\n",
    "# Compile the model\n",
    "model.compile(optimizer=Adam(learning_rate=0.001),\n",
    "              loss='binary_crossentropy',\n",
    "              metrics=['accuracy'])\n",
    "\n",
    "# Print model summary\n",
    "model.summary()\n",
    "\n",
    "print(\"Model created successfully!\")"
   ]
  },
  {
   "cell_type": "markdown",
   "id": "060b6448-444f-4b78-a0f9-cc3ebb63cae1",
   "metadata": {},
   "source": [
    "---"
   ]
  },
  {
   "cell_type": "markdown",
   "id": "a1348621-3362-4012-a1b7-95df73cbf015",
   "metadata": {},
   "source": [
    "## Load files"
   ]
  },
  {
   "cell_type": "code",
   "execution_count": 4,
   "id": "8fea1c59-f9f2-4850-90b4-16a93a31173e",
   "metadata": {},
   "outputs": [],
   "source": [
    "import stella"
   ]
  },
  {
   "cell_type": "code",
   "execution_count": 6,
   "id": "40525a0e-caf7-42c1-a453-d9a2f455f1e7",
   "metadata": {},
   "outputs": [
    {
     "name": "stdout",
     "output_type": "stream",
     "text": [
      "Reading in training set files.\n"
     ]
    },
    {
     "name": "stderr",
     "output_type": "stream",
     "text": [
      "100%|█| 20132/20132 [00:05<00:00,\n"
     ]
    },
    {
     "name": "stdout",
     "output_type": "stream",
     "text": [
      "Number of positive class training data: 15621\n",
      "Number of negative class training data: 18178\n",
      "Number of positive class validation data: 1953\n",
      "Number of negative class validation data: 2272\n",
      "Size of augmented data (training set only): 0\n",
      "Class label (training): 0, Count: 18178\n",
      "Class label (training): 1, Count: 15621\n",
      "Class label (validation): 0, Count: 2272\n",
      "Class label (validation): 1, Count: 1953\n",
      "Total size of training set: 33799\n",
      "Total size of validation set: 4225\n",
      "Total size of test set: 4225\n",
      "Approximate class imbalance: 14.0\n"
     ]
    }
   ],
   "source": [
    "ds = stella.FlareDataSet(fn_dir='/Users/azib/Documents/open_source/nets2/models/comets10k-oneshape/',\n",
    "                         catalog='/Users/azib/Documents/open_source/nets2/catalogs/comets10k-oneshape.txt',cadences=144,training=0.8,validation=0.1,frac_balance=0.71)"
   ]
  },
  {
   "cell_type": "code",
   "execution_count": 8,
   "id": "d486f818-5747-4040-98d4-8b2b2d916caf",
   "metadata": {},
   "outputs": [
    {
     "name": "stdout",
     "output_type": "stream",
     "text": [
      "Epoch 1/50\n",
      "1057/1057 [==============================] - 9s 8ms/step - loss: 0.6912 - accuracy: 0.5362 - val_loss: 0.6901 - val_accuracy: 0.5378\n",
      "Epoch 2/50\n",
      "1057/1057 [==============================] - 8s 8ms/step - loss: 0.6904 - accuracy: 0.5378 - val_loss: 0.6901 - val_accuracy: 0.5378\n",
      "Epoch 3/50\n",
      "1057/1057 [==============================] - 8s 8ms/step - loss: 0.6888 - accuracy: 0.5392 - val_loss: 0.6832 - val_accuracy: 0.5404\n",
      "Epoch 4/50\n",
      "1057/1057 [==============================] - 9s 8ms/step - loss: 0.6166 - accuracy: 0.6545 - val_loss: 0.6911 - val_accuracy: 0.5373\n",
      "Epoch 5/50\n",
      "1057/1057 [==============================] - 8s 8ms/step - loss: 0.6917 - accuracy: 0.5314 - val_loss: 0.6908 - val_accuracy: 0.5378\n",
      "Epoch 6/50\n",
      "1057/1057 [==============================] - 8s 8ms/step - loss: 0.6908 - accuracy: 0.5369 - val_loss: 0.6903 - val_accuracy: 0.5378\n",
      "Epoch 7/50\n",
      "1057/1057 [==============================] - 8s 8ms/step - loss: 0.6906 - accuracy: 0.5374 - val_loss: 0.6903 - val_accuracy: 0.5378\n",
      "Epoch 8/50\n",
      "1057/1057 [==============================] - 9s 8ms/step - loss: 0.6905 - accuracy: 0.5377 - val_loss: 0.6903 - val_accuracy: 0.5378\n",
      "Epoch 9/50\n",
      "1057/1057 [==============================] - 9s 8ms/step - loss: 0.6905 - accuracy: 0.5378 - val_loss: 0.6903 - val_accuracy: 0.5378\n",
      "Epoch 10/50\n",
      "1057/1057 [==============================] - 8s 8ms/step - loss: 0.6894 - accuracy: 0.5395 - val_loss: 0.6904 - val_accuracy: 0.5378\n",
      "Epoch 11/50\n",
      "1057/1057 [==============================] - 10s 9ms/step - loss: 0.6906 - accuracy: 0.5378 - val_loss: 0.6903 - val_accuracy: 0.5378\n",
      "Epoch 12/50\n",
      "1057/1057 [==============================] - 8s 8ms/step - loss: 0.6904 - accuracy: 0.5378 - val_loss: 0.6903 - val_accuracy: 0.5378\n",
      "Epoch 13/50\n",
      "1057/1057 [==============================] - 8s 8ms/step - loss: 0.6904 - accuracy: 0.5378 - val_loss: 0.6903 - val_accuracy: 0.5378\n",
      "Epoch 14/50\n",
      "1057/1057 [==============================] - 8s 8ms/step - loss: 0.6905 - accuracy: 0.5378 - val_loss: 0.6903 - val_accuracy: 0.5378\n",
      "Epoch 15/50\n",
      "1057/1057 [==============================] - 9s 8ms/step - loss: 0.6903 - accuracy: 0.5378 - val_loss: 0.6903 - val_accuracy: 0.5378\n",
      "Epoch 16/50\n",
      "1057/1057 [==============================] - 9s 8ms/step - loss: 0.6903 - accuracy: 0.5378 - val_loss: 0.6903 - val_accuracy: 0.5378\n",
      "Epoch 17/50\n",
      "1057/1057 [==============================] - 10s 9ms/step - loss: 0.6903 - accuracy: 0.5378 - val_loss: 0.6903 - val_accuracy: 0.5378\n",
      "Epoch 18/50\n",
      "1057/1057 [==============================] - 9s 8ms/step - loss: 0.6903 - accuracy: 0.5378 - val_loss: 0.6903 - val_accuracy: 0.5378\n",
      "Epoch 19/50\n",
      "1057/1057 [==============================] - 9s 8ms/step - loss: 0.6903 - accuracy: 0.5378 - val_loss: 0.6903 - val_accuracy: 0.5378\n",
      "Epoch 20/50\n",
      "1057/1057 [==============================] - 9s 8ms/step - loss: 0.6903 - accuracy: 0.5378 - val_loss: 0.6903 - val_accuracy: 0.5378\n",
      "Epoch 21/50\n",
      "1057/1057 [==============================] - 9s 8ms/step - loss: 0.6903 - accuracy: 0.5378 - val_loss: 0.6904 - val_accuracy: 0.5378\n",
      "Epoch 22/50\n",
      "1057/1057 [==============================] - 10s 9ms/step - loss: 0.6903 - accuracy: 0.5378 - val_loss: 0.6903 - val_accuracy: 0.5378\n",
      "Epoch 23/50\n",
      "1057/1057 [==============================] - 9s 8ms/step - loss: 0.6903 - accuracy: 0.5378 - val_loss: 0.6903 - val_accuracy: 0.5378\n",
      "Epoch 24/50\n",
      "1057/1057 [==============================] - 9s 8ms/step - loss: 0.6903 - accuracy: 0.5378 - val_loss: 0.6903 - val_accuracy: 0.5378\n",
      "Epoch 25/50\n",
      "1057/1057 [==============================] - 9s 8ms/step - loss: 0.6903 - accuracy: 0.5378 - val_loss: 0.6903 - val_accuracy: 0.5378\n",
      "Epoch 26/50\n",
      "1057/1057 [==============================] - 9s 8ms/step - loss: 0.6903 - accuracy: 0.5378 - val_loss: 0.6903 - val_accuracy: 0.5378\n",
      "Epoch 27/50\n",
      "1057/1057 [==============================] - 9s 8ms/step - loss: 0.6903 - accuracy: 0.5378 - val_loss: 0.6903 - val_accuracy: 0.5378\n",
      "Epoch 28/50\n",
      "1057/1057 [==============================] - 9s 8ms/step - loss: 0.6903 - accuracy: 0.5378 - val_loss: 0.6903 - val_accuracy: 0.5378\n",
      "Epoch 29/50\n",
      "1057/1057 [==============================] - 11s 10ms/step - loss: 0.6903 - accuracy: 0.5378 - val_loss: 0.6903 - val_accuracy: 0.5378\n",
      "Epoch 30/50\n",
      "1057/1057 [==============================] - 10s 10ms/step - loss: 0.6903 - accuracy: 0.5378 - val_loss: 0.6903 - val_accuracy: 0.5378\n",
      "Epoch 31/50\n",
      "1057/1057 [==============================] - 11s 11ms/step - loss: 0.6903 - accuracy: 0.5378 - val_loss: 0.6903 - val_accuracy: 0.5378\n",
      "Epoch 32/50\n",
      "1057/1057 [==============================] - 13s 12ms/step - loss: 0.6903 - accuracy: 0.5378 - val_loss: 0.6903 - val_accuracy: 0.5378\n",
      "Epoch 33/50\n",
      "1057/1057 [==============================] - 13s 13ms/step - loss: 0.6903 - accuracy: 0.5378 - val_loss: 0.6903 - val_accuracy: 0.5378\n",
      "Epoch 34/50\n",
      "1057/1057 [==============================] - 13s 12ms/step - loss: 0.6903 - accuracy: 0.5378 - val_loss: 0.6903 - val_accuracy: 0.5378\n",
      "Epoch 35/50\n",
      "1057/1057 [==============================] - 10s 10ms/step - loss: 0.6903 - accuracy: 0.5378 - val_loss: 0.6903 - val_accuracy: 0.5378\n",
      "Epoch 36/50\n",
      "1057/1057 [==============================] - 11s 11ms/step - loss: 0.6903 - accuracy: 0.5378 - val_loss: 0.6903 - val_accuracy: 0.5378\n",
      "Epoch 37/50\n",
      "1057/1057 [==============================] - 11s 11ms/step - loss: 0.6903 - accuracy: 0.5378 - val_loss: 0.6903 - val_accuracy: 0.5378\n",
      "Epoch 38/50\n",
      "1057/1057 [==============================] - 10s 10ms/step - loss: 0.6903 - accuracy: 0.5378 - val_loss: 0.6903 - val_accuracy: 0.5378\n",
      "Epoch 39/50\n",
      "1057/1057 [==============================] - 11s 11ms/step - loss: 0.6903 - accuracy: 0.5378 - val_loss: 0.6903 - val_accuracy: 0.5378\n",
      "Epoch 40/50\n",
      "1057/1057 [==============================] - 10s 9ms/step - loss: 0.6903 - accuracy: 0.5378 - val_loss: 0.6903 - val_accuracy: 0.5378\n",
      "Epoch 41/50\n",
      "1057/1057 [==============================] - 11s 11ms/step - loss: 0.6903 - accuracy: 0.5378 - val_loss: 0.6903 - val_accuracy: 0.5378\n",
      "Epoch 42/50\n",
      "1057/1057 [==============================] - 10s 9ms/step - loss: 0.6903 - accuracy: 0.5378 - val_loss: 0.6903 - val_accuracy: 0.5378\n",
      "Epoch 43/50\n",
      "1057/1057 [==============================] - 10s 10ms/step - loss: 0.6903 - accuracy: 0.5378 - val_loss: 0.6903 - val_accuracy: 0.5378\n",
      "Epoch 44/50\n",
      "1057/1057 [==============================] - 9s 9ms/step - loss: 0.6903 - accuracy: 0.5378 - val_loss: 0.6903 - val_accuracy: 0.5378\n",
      "Epoch 45/50\n",
      "1057/1057 [==============================] - 11s 10ms/step - loss: 0.6903 - accuracy: 0.5378 - val_loss: 0.6903 - val_accuracy: 0.5378\n",
      "Epoch 46/50\n",
      "1057/1057 [==============================] - 11s 10ms/step - loss: 0.6903 - accuracy: 0.5378 - val_loss: 0.6903 - val_accuracy: 0.5378\n",
      "Epoch 47/50\n",
      "1057/1057 [==============================] - 13s 12ms/step - loss: 0.6903 - accuracy: 0.5378 - val_loss: 0.6903 - val_accuracy: 0.5378\n",
      "Epoch 48/50\n",
      "1057/1057 [==============================] - 11s 10ms/step - loss: 0.6903 - accuracy: 0.5378 - val_loss: 0.6903 - val_accuracy: 0.5378\n",
      "Epoch 49/50\n",
      "1057/1057 [==============================] - 13s 12ms/step - loss: 0.6903 - accuracy: 0.5378 - val_loss: 0.6903 - val_accuracy: 0.5378\n",
      "Epoch 50/50\n",
      "1057/1057 [==============================] - 15s 14ms/step - loss: 0.6903 - accuracy: 0.5378 - val_loss: 0.6903 - val_accuracy: 0.5378\n"
     ]
    },
    {
     "data": {
      "text/plain": [
       "<keras.src.callbacks.History at 0x30aa0c6a0>"
      ]
     },
     "execution_count": 8,
     "metadata": {},
     "output_type": "execute_result"
    }
   ],
   "source": [
    "model.fit(ds.train_data, ds.train_labels, epochs=50, \n",
    "                    validation_data=(ds.val_data, ds.val_labels))"
   ]
  },
  {
   "cell_type": "code",
   "execution_count": null,
   "id": "ece61f19-4a48-46ed-abce-a39450e88536",
   "metadata": {},
   "outputs": [],
   "source": [
    "# self.ds.train_data,\n",
    "#                 self.ds.train_labels,\n",
    "#                 epochs=epochs,\n",
    "#                 batch_size=batch_size,\n",
    "#                 shuffle=shuffle,\n",
    "#                 validation_data=(self.ds.val_data, self.ds.val_labels),"
   ]
  }
 ],
 "metadata": {
  "kernelspec": {
   "display_name": "nets2",
   "language": "python",
   "name": "nets2"
  },
  "language_info": {
   "codemirror_mode": {
    "name": "ipython",
    "version": 3
   },
   "file_extension": ".py",
   "mimetype": "text/x-python",
   "name": "python",
   "nbconvert_exporter": "python",
   "pygments_lexer": "ipython3",
   "version": "3.8.19"
  }
 },
 "nbformat": 4,
 "nbformat_minor": 5
}
