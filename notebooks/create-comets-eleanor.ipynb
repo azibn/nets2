{
 "cells": [
  {
   "cell_type": "markdown",
   "id": "bb65436b-aaa2-462f-b955-7a8b871111c9",
   "metadata": {},
   "source": [
    "# Creating comet models"
   ]
  },
  {
   "cell_type": "code",
   "execution_count": 1,
   "id": "70240a3f-bff6-4946-ac16-4a0709b2ae33",
   "metadata": {},
   "outputs": [
    {
     "name": "stderr",
     "output_type": "stream",
     "text": [
      "/Users/azib/micromamba/envs/nets2/lib/python3.8/site-packages/lightkurve/config/__init__.py:119: UserWarning: The default Lightkurve cache directory, used by download(), etc., has been moved to /Users/azib/.lightkurve/cache. Please move all the files in the legacy directory /Users/azib/.lightkurve-cache to the new location and remove the legacy directory. Refer to https://docs.lightkurve.org/reference/config.html#default-cache-directory-migration for more information.\n",
      "  warnings.warn(\n"
     ]
    }
   ],
   "source": [
    "import os, sys\n",
    "sys.path.insert(1, '/Users/azib/Documents/open_source/nets2/stella/')\n",
    "sys.path.insert(1, '/Users/azib/Documents/open_source/nets2/scripts/')\n",
    "import numpy as np\n",
    "from utils import *\n",
    "import models\n",
    "import matplotlib.pyplot as plt\n",
    "from astropy.table import Table\n",
    "from glob import glob\n",
    "from tqdm import tqdm\n",
    "import wotan\n",
    "import lightkurve as lk\n",
    "import stella\n",
    "import pandas as pd\n",
    "import random\n",
    "import batman \n",
    "import warnings"
   ]
  },
  {
   "cell_type": "markdown",
   "id": "88ddcc26-26c9-4851-9e79-5d2d099085a6",
   "metadata": {},
   "source": [
    "### Generate the models"
   ]
  },
  {
   "cell_type": "code",
   "execution_count": null,
   "id": "a461e784-c9d5-4ee4-9404-30cb3b972bd4",
   "metadata": {
    "scrolled": true
   },
   "outputs": [],
   "source": [
    "files = glob('../data/eleanor/s0007/*.fits', recursive=True)\n",
    "random.shuffle(files)"
   ]
  },
  {
   "cell_type": "code",
   "execution_count": null,
   "id": "5a0a410b-6b09-4714-b49a-5544a746be61",
   "metadata": {},
   "outputs": [],
   "source": [
    "files[0]"
   ]
  },
  {
   "cell_type": "markdown",
   "id": "df4455a7-6985-4274-8129-e3a783e7007e",
   "metadata": {},
   "source": [
    "### Create models"
   ]
  },
  {
   "cell_type": "code",
   "execution_count": null,
   "id": "55dfbe02-0909-482e-83af-7bc92f8c21e7",
   "metadata": {},
   "outputs": [],
   "source": [
    "folder = '../models/comets10k' "
   ]
  },
  {
   "cell_type": "code",
   "execution_count": null,
   "id": "8855bd7a-c70b-4796-a11b-9464d9f4eb38",
   "metadata": {},
   "outputs": [],
   "source": [
    "def calculate_timestep(table):\n",
    "    \"\"\"\n",
    "    Function: Calculates the median value of the time differences between data points in a given table. \n",
    "    Provides an estimate of the timestep (or time delta) between consecutive data points.\n",
    "\n",
    "    Parameters:\n",
    "    :table (array or pandas.DataFrame): The input table containing time-series data.\n",
    "\n",
    "    Returns:\n",
    "    :dt (float): The estimated time interval or timestep between consecutive data points.\"\"\"\n",
    "\n",
    "    try:\n",
    "        dt = [ table[i+1][0] - table[i][0] for i in range(len(table)-1) ] # calculates difference between (ith+1) - (ith) point \n",
    "        dt.sort()\n",
    "        return dt[int(len(dt)/2)] # median of them.\n",
    "    except:\n",
    "        return np.median(np.diff(table['time'])) ## change this to account for any time column names\n",
    "\n",
    "    \n",
    "\n",
    "def clean_data(table):\n",
    "    \"\"\"\n",
    "    Function: Interpolating missing data points, ensuring equal time gaps between points. \n",
    "    Returns five numpy arrays: time, flux, quality, real, and flux_error. Real is 0 if data point interpolated, 1 otherwise.\n",
    "\n",
    "    Parameters:\n",
    "    :table (astropy.table.table): The input table containing time-series data.\n",
    "    \n",
    "    Returns:\n",
    "    :time (numpy.ndarray): An array of timestamps for each data point, including the interpolated points.\n",
    "    :flux (numpy.ndarray): An array of flux values for each data point, including the interpolated points.\n",
    "    :quality (numpy.ndarray): An array indicating the quality of each data point, including the interpolated points.\n",
    "    :real (numpy.ndarray): An array indicating whether each data point is real (1) or interpolated (0).\n",
    "    :flux_error (numpy.ndarray): An array of flux error values for each data point, including the interpolated points.\"\"\"\n",
    "\n",
    "\n",
    "    time = []\n",
    "    flux = []\n",
    "    quality = []\n",
    "    real = []\n",
    "    flux_error = []\n",
    "    timestep = calculate_timestep(table)\n",
    "\n",
    "\n",
    "    ### this scale factor ensures that you can use any cadence of lightcurves. 48 cadences = 1 day.\n",
    "    factor = ((1/48)/timestep)\n",
    "\n",
    "    for row in table:\n",
    "        ti, fi, qi, fei = row\n",
    "\n",
    "        if len(time) > 0:\n",
    "            steps = int(round( (ti - time[-1])/timestep * factor)) # (y2-y1)/(x2-x1)\n",
    "            if steps > 1:\n",
    "                fluxstep = (fi - flux[-1])/steps\n",
    "                fluxerror_step = (fei - flux_error[-1])/steps\n",
    "\n",
    "                # For small gaps, pretend interpolated data is real.\n",
    "                if steps > 2:\n",
    "                    set_real=0\n",
    "                else:\n",
    "                    set_real=1\n",
    "\n",
    "                for _ in range(steps-1):\n",
    "                    time.append(timestep + time[-1])\n",
    "                    flux.append(fluxstep + flux[-1])\n",
    "                    flux_error.append(fluxerror_step + flux_error[-1])\n",
    "\n",
    "                    quality.append(0)\n",
    "                    real.append(set_real)\n",
    "        time.append(ti)\n",
    "        flux.append(fi)\n",
    "        quality.append(qi)\n",
    "        real.append(1)\n",
    "        flux_error.append(fei)\n",
    "\n",
    "    return [np.array(x) for x in [time,flux,quality,real,flux_error]]"
   ]
  },
  {
   "cell_type": "code",
   "execution_count": null,
   "id": "dc8aab2e-fa91-4d95-9bec-73caeccc77ed",
   "metadata": {},
   "outputs": [],
   "source": [
    "os.makedirs(folder, exist_ok=True)\n",
    "fails = []\n",
    "times = []\n",
    "rmsfails = []\n",
    "ticid = []\n",
    "snr = []\n",
    "rms_cat = []\n",
    "\n",
    "min_snr = 3\n",
    "max_snr = 20\n",
    "window_size = 84  # Number of cadences representing the window size (3.5 days)\n",
    "max_retries = 20  # Maximum number of retries for model creation\n",
    "\n",
    "for i in tqdm(files[0:10100]):\n",
    "    try:\n",
    "        ### READ IN LIGHTCURVE\n",
    "        lc, lc_info = import_lightcurve(i, drop_bad_points=True)\n",
    "        sector = f\"{lc_info['sector']:02d}\"\n",
    "\n",
    "        ### FLATTEN THE ORIGINAL LIGHTCURVE\n",
    "        flat_flux = wotan.flatten(lc['TIME'], lc['PCA_FLUX'], method='median', window_length=1)\n",
    "\n",
    "        ### GET RMS OF FLATTENED ORIGINAL LIGHTCURVE\n",
    "        rms = np.nanstd(flat_flux)\n",
    "        if np.isnan(rms):\n",
    "            rmsfails.append(rms)\n",
    "            continue\n",
    "\n",
    "        ### IDENTIFY LARGE GAPS IN ORIGINAL LIGHTCURVE\n",
    "        diff = np.diff(lc['TIME'])\n",
    "        large_gaps_indices = np.where(diff > 1)[0]\n",
    "\n",
    "        ### CREATE COPY OF LIGHTCURVE\n",
    "        lcc = lc.copy()\n",
    "        lcc = lcc[lcc['QUALITY'] == 0]\n",
    "        tic = lc_info['TIC_ID']\n",
    "        lcc = lcc['TIME', 'PCA_FLUX', 'QUALITY', 'FLUX_ERR']\n",
    "\n",
    "        ### INTERPOLATE THE COPIED LIGHTCURVE\n",
    "        time, flux, quality, real, flux_error = clean_data(lcc)\n",
    "\n",
    "        ### CHOOSE RANDOM SNR VALUE\n",
    "        random_snr = np.random.uniform(min_snr, max_snr)\n",
    "        A = rms * random_snr\n",
    "\n",
    "        valid_model_found = False\n",
    "        retry_count = 0\n",
    "\n",
    "        while not valid_model_found and retry_count < max_retries:\n",
    "            # INITIALISE FLAG TO FIND IF TIME IS GOOD TO INJECT IN (THIS IS BASED ON THE TIMES OF THE ORIGINAL LIGHTCURVE)\n",
    "            valid_time_found = False\n",
    "\n",
    "            while not valid_time_found:\n",
    "                t0 = 15#np.random.uniform(lc['TIME'][0], lc['TIME'][-1])\n",
    "\n",
    "                # Check if t0 avoids large gaps\n",
    "                valid_t0 = False\n",
    "                for index in large_gaps_indices:\n",
    "                    start_time = lc['TIME'][index] - 1\n",
    "                    end_time = lc['TIME'][index + 1] + 1\n",
    "                    if start_time <= t0 <= end_time:\n",
    "                        break\n",
    "                    elif index < len(lc['TIME']) - 1 and diff[index] > 0.5 and abs(t0 - lc['TIME'][index + 1]) < 1.5:\n",
    "                        break\n",
    "                    elif index > 0 and diff[index - 1] > 0.5 and abs(t0 - lc['TIME'][index]) < 1.5:\n",
    "                        break\n",
    "                    elif t0 <= lc['TIME'][0] + 1.5:\n",
    "                        break\n",
    "                    elif t0 >= lc['TIME'][-1] - 1.5:\n",
    "                        break\n",
    "                else:\n",
    "                    valid_t0 = True\n",
    "\n",
    "                if valid_t0:\n",
    "                    # Check if all data points within the window are non-interpolated\n",
    "                    window_start = np.argmin(np.abs(time - (t0 - window_size * np.median(np.diff(time)))))\n",
    "                    window_end = np.argmin(np.abs(time - (t0 + window_size * np.median(np.diff(time))))) + 1\n",
    "                    if np.all(real[window_start:window_end] == 1):\n",
    "                        valid_time_found = True\n",
    "\n",
    "            ### CREATE MODEL BASED ON THE INTERPOLATED LIGHTCURVE TIME ARRAY\n",
    "            model = 1 - models.comet_curve(time, A, t0)\n",
    "\n",
    "            ### INJECT MODEL INTO INTERPOLATED LIGHTCURVE\n",
    "            f = model * (flux/np.nanmedian(flux))\n",
    "\n",
    "            if np.all(f >= 0):\n",
    "                valid_model_found = True\n",
    "            else:\n",
    "                retry_count += 1\n",
    "\n",
    "        if not valid_model_found:\n",
    "            print(f\"Failed to create a valid model for file {i} after {max_retries} attempts. Skipping...\")\n",
    "            continue\n",
    "\n",
    "        fluxerror = flux_error/flux\n",
    "\n",
    "        ### APPEND TIMES AND TIC ID FOR THE CATALOG\n",
    "        times.append(t0)\n",
    "        ticid.append(tic)\n",
    "        snr.append(random_snr)\n",
    "        rms_cat.append(rms)\n",
    "\n",
    "        ### SAVE INTO NUMPY FOLDER\n",
    "        np.save(f\"{folder}/{lc_info['TIC_ID']}_sector{sector}.npy\",np.array([time[real == 1], f[real == 1], fluxerror[real == 1], real[real == 1],model[real == 1]]))\n",
    "\n",
    "    except TypeError as e:\n",
    "        fails.append(i)\n",
    "        print(f\"Exception occurred for file {i}: {e}. Continuing...\")\n",
    "        continue"
   ]
  },
  {
   "cell_type": "markdown",
   "id": "10dc8516-e397-4cf6-8e3a-757139116664",
   "metadata": {},
   "source": [
    "## Loading comet models"
   ]
  },
  {
   "cell_type": "markdown",
   "id": "66e7b7b2-46f6-4a97-b15f-3644a5b58ab5",
   "metadata": {},
   "source": [
    "### Sample plot of Full Lightcurves"
   ]
  },
  {
   "cell_type": "code",
   "execution_count": null,
   "id": "00586bff-e4c6-4565-8e89-d744696e5220",
   "metadata": {
    "scrolled": true
   },
   "outputs": [],
   "source": [
    "# num_files_per_grid = 100\n",
    "\n",
    "# for i in range(0, len(comets), num_files_per_grid):\n",
    "#     batch_paths = comets[i:i+num_files_per_grid]\n",
    "#     num_rows, num_cols = 10, 10\n",
    "#     fig, axs = plt.subplots(num_rows, num_cols, figsize=(20, 20))\n",
    "\n",
    "#     for j, path in enumerate(batch_paths):\n",
    "#         file = np.load(path,allow_pickle=True)\n",
    "#         time = file[0]\n",
    "#         flux = file[1]/np.nanmedian(file[1])\n",
    "\n",
    "\n",
    "        \n",
    "#         # Extract the file ID from the path\n",
    "#         file_id = os.path.splitext(os.path.basename(path))[0].split('_')[0]\n",
    "        \n",
    "\n",
    "#         row = j // num_cols\n",
    "#         col = j % num_cols\n",
    "\n",
    "#         axs[row, col].plot(time, flux)\n",
    "#         axs[row, col].set_title(f'TIC {file_id}')\n",
    "\n",
    "#     plt.tight_layout()\n",
    "#     plt.show()\n",
    "    "
   ]
  },
  {
   "cell_type": "code",
   "execution_count": null,
   "id": "d43f0d58-c814-451f-8e4f-85fc2063f836",
   "metadata": {},
   "outputs": [],
   "source": [
    "# num_files_per_grid = 25  # Since you want a 5x5 grid\n",
    "\n",
    "# for i in range(0, len(comets), num_files_per_grid):\n",
    "#     batch_paths = comets[i:i+num_files_per_grid]\n",
    "#     num_rows, num_cols = 5, 5  # Set the number of rows and columns for the grid\n",
    "#     fig, axs = plt.subplots(num_rows, num_cols, figsize=(20, 20))\n",
    "\n",
    "#     for j, path in enumerate(batch_paths):\n",
    "#         file = np.load(path, allow_pickle=True)\n",
    "#         time = file[0]\n",
    "#         flux = file[1] / np.nanmedian(file[1])\n",
    "\n",
    "#         # Extract the file ID from the path\n",
    "#         file_id = os.path.splitext(os.path.basename(path))[0].split('_')[0]\n",
    "\n",
    "#         row = j // num_cols\n",
    "#         col = j % num_cols\n",
    "\n",
    "#         axs[row, col].plot(time, flux)\n",
    "#         axs[row, col].set_title(f'TIC {file_id}')\n",
    "\n",
    "#     plt.tight_layout()\n",
    "#     plt.show()\n",
    "#     break"
   ]
  },
  {
   "cell_type": "markdown",
   "id": "f97f7de8-ca54-4d31-91ee-409ac60ab18a",
   "metadata": {},
   "source": [
    "## Build catalog"
   ]
  },
  {
   "cell_type": "code",
   "execution_count": null,
   "id": "dda8f149-427c-495d-8bb5-87c6b889c9a5",
   "metadata": {},
   "outputs": [],
   "source": [
    "data = pd.DataFrame(data=[ticid,times,snr,rms_cat]).T\n",
    "data.columns = ['TIC','tpeak','SNR','RMS']\n",
    "data.TIC = data.TIC.astype(int)\n",
    "t = Table.from_pandas(data)\n",
    "\n",
    "t.write('../catalogs/comets10k.txt', format='ascii', overwrite=True) "
   ]
  },
  {
   "cell_type": "code",
   "execution_count": 2,
   "id": "224c725d-954f-40f1-8204-1287ae52ce61",
   "metadata": {},
   "outputs": [
    {
     "name": "stdout",
     "output_type": "stream",
     "text": [
      "Reading in training set files.\n"
     ]
    },
    {
     "name": "stderr",
     "output_type": "stream",
     "text": [
      "100%|█|\n"
     ]
    },
    {
     "name": "stdout",
     "output_type": "stream",
     "text": [
      "Number of positive class training data: 3864\n",
      "Number of negative class training data: 3488\n",
      "Number of positive class validation data: 483\n",
      "Number of negative class validation data: 436\n",
      "Size of augmented data (training set only): 0\n",
      "Class label (training): 0, Count: 3488\n",
      "Class label (training): 1, Count: 3864\n",
      "Class label (validation): 0, Count: 436\n",
      "Class label (validation): 1, Count: 483\n",
      "Total size of training set: 7352\n",
      "Total size of validation set: 919\n",
      "Total size of test set: 920\n",
      "Approximate class imbalance: -11.0\n"
     ]
    }
   ],
   "source": [
    "ds = stella.FlareDataSet(fn_dir='/Users/azib/Documents/open_source/nets2/models/comets5k-skewed/',\n",
    "                         catalog='/Users/azib/Documents/open_source/nets2/catalogs/comets5k-skewed.txt',cadences=168,training=0.8,validation=0.1)"
   ]
  },
  {
   "cell_type": "code",
   "execution_count": 3,
   "id": "58fc836b-3117-4385-a2ee-6dab30426e86",
   "metadata": {},
   "outputs": [
    {
     "data": {
      "image/png": "[encoded data removed]",
      "text/plain": [
       "<Figure size 1000x300 with 2 Axes>"
      ]
     },
     "metadata": {},
     "output_type": "display_data"
    }
   ],
   "source": [
    "ind_pc = np.where(ds.train_labels==1)[0] # Flares\n",
    "ind_nc = np.where(ds.train_labels!=1)[0] # No flares\n",
    "\n",
    "fig, (ax1, ax2) = plt.subplots(ncols=2, figsize=(10,3),\n",
    "                               sharex=True, sharey=True)\n",
    "ax1.plot(ds.train_data[ind_pc[2]], 'r')\n",
    "ax1.set_title('Comet')\n",
    "ax1.set_xlabel('Cadences')\n",
    "ax2.plot(ds.train_data[ind_nc[0]], 'k')\n",
    "ax2.set_title('No Comet')\n",
    "ax2.set_xlabel('Cadences');"
   ]
  },
  {
   "cell_type": "markdown",
   "id": "ac5efb06-5464-40d2-9f5c-9da595ff06be",
   "metadata": {},
   "source": [
    "### Example of Exocomet Models"
   ]
  },
  {
   "cell_type": "code",
   "execution_count": 5,
   "id": "cc5d9918-e212-4758-a6ed-9e96bdf41edd",
   "metadata": {},
   "outputs": [
    {
     "name": "stderr",
     "output_type": "stream",
     "text": [
      "100%|█|\n"
     ]
    }
   ],
   "source": [
    "os.makedirs('../exocomet-models-skew/',exist_ok=True)\n",
    "dsmodels = ds.train_data[ind_pc]\n",
    "dsnomodels = ds.train_data[ind_nc]\n",
    "\n",
    "num_sets = dsmodels.shape[0] // 100\n",
    "\n",
    "for set_index in tqdm(range(num_sets)):\n",
    "    start_index = set_index * 100\n",
    "    end_index = min((set_index + 1) * 100, dsmodels.shape[0])  # Ensure not to exceed the length of the data\n",
    "\n",
    "    # Create a new 10x10 grid of subplots for each set\n",
    "    fig, axs = plt.subplots(10, 10, figsize=(20, 20))\n",
    "\n",
    "    # Flatten the axes array for easier iteration\n",
    "    axs = axs.flatten()\n",
    "\n",
    "    # Iterate over the elements in the current set and plot each in the grid\n",
    "    for i in range(start_index, end_index):\n",
    "        plot_index = i % 100  # Calculate the index within the current grid\n",
    "        axs[plot_index].plot(dsmodels[i, :, 0])  # Assuming you want to plot the first dimension of your array\n",
    "        axs[plot_index].set_title(f\"Plot {i}\")  # Title for each subplot\n",
    "\n",
    "    # Hide any remaining empty subplots\n",
    "    for j in range(end_index - start_index, len(axs)):\n",
    "        axs[j].axis('off')\n",
    "\n",
    "    \n",
    "    plt.tight_layout()  # Adjust layout\n",
    "    plt.savefig(f'../exocomet-models-skew/exoplanet-models-{start_index}-{end_index}.png',dpi=200,bbox_inches='tight')\n",
    "    plt.close() \n",
    "    "
   ]
  },
  {
   "cell_type": "code",
   "execution_count": 16,
   "id": "b27749a8-a526-419f-bd1b-fb5ac6e7d278",
   "metadata": {},
   "outputs": [
    {
     "data": {
      "text/plain": [
       "(array([], dtype=int64), array([], dtype=int64), array([], dtype=int64))"
      ]
     },
     "execution_count": 16,
     "metadata": {},
     "output_type": "execute_result"
    }
   ],
   "source": [
    "np.where(ds.train_data < 0)"
   ]
  },
  {
   "cell_type": "code",
   "execution_count": 14,
   "id": "295013da-2ca9-4921-aa98-c64b860b498d",
   "metadata": {},
   "outputs": [
    {
     "data": {
      "text/plain": [
       "(16704, 168, 1)"
      ]
     },
     "execution_count": 14,
     "metadata": {},
     "output_type": "execute_result"
    }
   ],
   "source": [
    "ds.train_data.shape"
   ]
  },
  {
   "cell_type": "code",
   "execution_count": 15,
   "id": "0946e7ae-f106-48d9-986c-4b76c681eb70",
   "metadata": {},
   "outputs": [
    {
     "data": {
      "text/plain": [
       "array([1491.744438  , 1491.76527197, 1491.78610594, ..., 1516.03645672,\n",
       "       1516.05729   , 1516.07812328])"
      ]
     },
     "execution_count": 15,
     "metadata": {},
     "output_type": "execute_result"
    }
   ],
   "source": [
    "ds.time[0]"
   ]
  },
  {
   "cell_type": "code",
   "execution_count": 15,
   "id": "d7501720-7b4d-47dd-a9f2-ee746a5a21e3",
   "metadata": {},
   "outputs": [
    {
     "data": {
      "text/html": [
       "<div><i>Table length=1</i>\n",
       "<table id=\"table6422028192\" class=\"table-striped table-bordered table-condensed\">\n",
       "<thead><tr><th>TIC</th><th>tpeak</th></tr></thead>\n",
       "<thead><tr><th>int64</th><th>float64</th></tr></thead>\n",
       "<tr><td>279219465</td><td>1511.315203951044</td></tr>\n",
       "</table></div>"
      ],
      "text/plain": [
       "<Table length=1>\n",
       "   TIC          tpeak      \n",
       "  int64        float64     \n",
       "--------- -----------------\n",
       "279219465 1511.315203951044"
      ]
     },
     "execution_count": 15,
     "metadata": {},
     "output_type": "execute_result"
    }
   ],
   "source": [
    "ds.catalog[ds.catalog['TIC'] == int(ds.training_ids[ind_pc][75])]"
   ]
  }
 ],
 "metadata": {
  "kernelspec": {
   "display_name": "nets2",
   "language": "python",
   "name": "nets2"
  },
  "language_info": {
   "codemirror_mode": {
    "name": "ipython",
    "version": 3
   },
   "file_extension": ".py",
   "mimetype": "text/x-python",
   "name": "python",
   "nbconvert_exporter": "python",
   "pygments_lexer": "ipython3",
   "version": "3.8.19"
  }
 },
 "nbformat": 4,
 "nbformat_minor": 5
}
