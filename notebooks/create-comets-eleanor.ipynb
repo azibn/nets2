{
 "cells": [
  {
   "cell_type": "markdown",
   "id": "bb65436b-aaa2-462f-b955-7a8b871111c9",
   "metadata": {},
   "source": [
    "# Creating comet models"
   ]
  },
  {
   "cell_type": "code",
   "execution_count": 1,
   "id": "70240a3f-bff6-4946-ac16-4a0709b2ae33",
   "metadata": {},
   "outputs": [
    {
     "name": "stderr",
     "output_type": "stream",
     "text": [
      "/Users/azib/micromamba/envs/nets2/lib/python3.8/site-packages/lightkurve/config/__init__.py:119: UserWarning: The default Lightkurve cache directory, used by download(), etc., has been moved to /Users/azib/.lightkurve/cache. Please move all the files in the legacy directory /Users/azib/.lightkurve-cache to the new location and remove the legacy directory. Refer to https://docs.lightkurve.org/reference/config.html#default-cache-directory-migration for more information.\n",
      "  warnings.warn(\n"
     ]
    }
   ],
   "source": [
    "import os, sys\n",
    "sys.path.insert(1, '/Users/azib/Documents/open_source/nets2/stella/')\n",
    "sys.path.insert(1, '/Users/azib/Documents/open_source/nets2/scripts/')\n",
    "import numpy as np\n",
    "from utils import *\n",
    "import models\n",
    "import matplotlib.pyplot as plt\n",
    "from astropy.table import Table\n",
    "from glob import glob\n",
    "from tqdm import tqdm\n",
    "import wotan\n",
    "import lightkurve as lk\n",
    "import stella\n",
    "import pandas as pd\n",
    "import random\n",
    "import batman \n",
    "import warnings"
   ]
  },
  {
   "cell_type": "markdown",
   "id": "88ddcc26-26c9-4851-9e79-5d2d099085a6",
   "metadata": {},
   "source": [
    "### Generate the models"
   ]
  },
  {
   "cell_type": "code",
   "execution_count": 2,
   "id": "a461e784-c9d5-4ee4-9404-30cb3b972bd4",
   "metadata": {
    "scrolled": true
   },
   "outputs": [],
   "source": [
    "files = glob('../data/eleanor/s0007/*.fits', recursive=True)\n",
    "random.shuffle(files)"
   ]
  },
  {
   "cell_type": "markdown",
   "id": "df4455a7-6985-4274-8129-e3a783e7007e",
   "metadata": {},
   "source": [
    "### Create models"
   ]
  },
  {
   "cell_type": "code",
   "execution_count": 3,
   "id": "790583c3-4b54-47e2-82f7-03a6d14177f8",
   "metadata": {},
   "outputs": [],
   "source": [
    "name = 'comets15k-lde'\n",
    "folder = f'../models/{name}' "
   ]
  },
  {
   "cell_type": "code",
   "execution_count": 4,
   "id": "8855bd7a-c70b-4796-a11b-9464d9f4eb38",
   "metadata": {},
   "outputs": [],
   "source": [
    "def calculate_timestep(table):\n",
    "    \"\"\"\n",
    "    Function: Calculates the median value of the time differences between data points in a given table. \n",
    "    Provides an estimate of the timestep (or time delta) between consecutive data points.\n",
    "\n",
    "    Parameters:\n",
    "    :table (array or pandas.DataFrame): The input table containing time-series data.\n",
    "\n",
    "    Returns:\n",
    "    :dt (float): The estimated time interval or timestep between consecutive data points.\"\"\"\n",
    "\n",
    "    try:\n",
    "        dt = [ table[i+1][0] - table[i][0] for i in range(len(table)-1) ] # calculates difference between (ith+1) - (ith) point \n",
    "        dt.sort()\n",
    "        return dt[int(len(dt)/2)] # median of them.\n",
    "    except:\n",
    "        return np.median(np.diff(table['time'])) ## change this to account for any time column names\n",
    "\n",
    "    \n",
    "\n",
    "def clean_data(table):\n",
    "    \"\"\"\n",
    "    Function: Interpolating missing data points, ensuring equal time gaps between points. \n",
    "    Returns five numpy arrays: time, flux, quality, real, and flux_error. Real is 0 if data point interpolated, 1 otherwise.\n",
    "\n",
    "    Parameters:\n",
    "    :table (astropy.table.table): The input table containing time-series data.\n",
    "    \n",
    "    Returns:\n",
    "    :time (numpy.ndarray): An array of timestamps for each data point, including the interpolated points.\n",
    "    :flux (numpy.ndarray): An array of flux values for each data point, including the interpolated points.\n",
    "    :quality (numpy.ndarray): An array indicating the quality of each data point, including the interpolated points.\n",
    "    :real (numpy.ndarray): An array indicating whether each data point is real (1) or interpolated (0).\n",
    "    :flux_error (numpy.ndarray): An array of flux error values for each data point, including the interpolated points.\"\"\"\n",
    "\n",
    "\n",
    "    time = []\n",
    "    flux = []\n",
    "    quality = []\n",
    "    real = []\n",
    "    flux_error = []\n",
    "    timestep = calculate_timestep(table)\n",
    "\n",
    "\n",
    "    ### this scale factor ensures that you can use any cadence of lightcurves. 48 cadences = 1 day.\n",
    "    factor = ((1/48)/timestep)\n",
    "\n",
    "    for row in table:\n",
    "        ti, fi, qi, fei = row\n",
    "\n",
    "        if len(time) > 0:\n",
    "            steps = int(round( (ti - time[-1])/timestep * factor)) # (y2-y1)/(x2-x1)\n",
    "            if steps > 1:\n",
    "                fluxstep = (fi - flux[-1])/steps\n",
    "                fluxerror_step = (fei - flux_error[-1])/steps\n",
    "\n",
    "                # For small gaps, pretend interpolated data is real.\n",
    "                if steps > 3:\n",
    "                    set_real=0\n",
    "                else:\n",
    "                    set_real=1\n",
    "\n",
    "                for _ in range(steps-1):\n",
    "                    time.append(timestep + time[-1])\n",
    "                    flux.append(fluxstep + flux[-1])\n",
    "                    flux_error.append(fluxerror_step + flux_error[-1])\n",
    "\n",
    "                    quality.append(0)\n",
    "                    real.append(set_real)\n",
    "        time.append(ti)\n",
    "        flux.append(fi)\n",
    "        quality.append(qi)\n",
    "        real.append(1)\n",
    "        flux_error.append(fei)\n",
    "\n",
    "    return [np.array(x) for x in [time,flux,quality,real,flux_error]]"
   ]
  },
  {
   "cell_type": "code",
   "execution_count": 5,
   "id": "dc8aab2e-fa91-4d95-9bec-73caeccc77ed",
   "metadata": {
    "scrolled": true
   },
   "outputs": [
    {
     "name": "stderr",
     "output_type": "stream",
     "text": [
      "  9%|███▉                                          | 1305/15300 [00:40<07:14, 32.22it/s]/Users/azib/micromamba/envs/nets2/lib/python3.8/site-packages/numpy/lib/nanfunctions.py:1872: RuntimeWarning: Degrees of freedom <= 0 for slice.\n",
      "  var = nanvar(a, axis=axis, dtype=dtype, out=out, ddof=ddof,\n",
      "100%|█████████████████████████████████████████████| 15300/15300 [07:45<00:00, 32.88it/s]\n"
     ]
    }
   ],
   "source": [
    "os.makedirs(folder, exist_ok=True)\n",
    "fails = []\n",
    "times = []\n",
    "rmsfails = []\n",
    "ticid = []\n",
    "snr = []\n",
    "rms_cat = []\n",
    "test = []\n",
    "\n",
    "min_snr = 5\n",
    "max_snr = 20\n",
    "window_size = 84  # Number of cadences representing the window size (3.5 days)\n",
    "max_retries = 50  # Maximum number of retries for model creation\n",
    "\n",
    "for i in tqdm(files[0:15300]):\n",
    "    try:\n",
    "        ### READ IN LIGHTCURVE\n",
    "        lc, lc_info = import_lightcurve(i, drop_bad_points=True)\n",
    "        sector = f\"{lc_info['sector']:02d}\"\n",
    "\n",
    "        ### FLATTEN THE ORIGINAL LIGHTCURVE\n",
    "        flat_flux = wotan.flatten(lc['TIME'], lc['PCA_FLUX'], method='median', window_length=1)\n",
    "\n",
    "        ### GET RMS OF FLATTENED ORIGINAL LIGHTCURVE\n",
    "        rms = np.nanstd(flat_flux)\n",
    "        if np.isnan(rms):\n",
    "            rmsfails.append(rms)\n",
    "            continue\n",
    "\n",
    "        ### IDENTIFY LARGE GAPS IN ORIGINAL LIGHTCURVE\n",
    "        diff = np.diff(lc['TIME'])\n",
    "        large_gaps_indices = np.where(diff > 1)[0]\n",
    "\n",
    "        ### CREATE COPY OF LIGHTCURVE\n",
    "        lcc = lc.copy()\n",
    "        lcc = lcc[lcc['QUALITY'] == 0]\n",
    "        tic = lc_info['TIC_ID']\n",
    "        lcc = lcc['TIME', 'PCA_FLUX', 'QUALITY', 'FLUX_ERR']\n",
    "\n",
    "        ### INTERPOLATE THE COPIED LIGHTCURVE\n",
    "        time, flux, quality, real, flux_error = clean_data(lcc)\n",
    "\n",
    "        ### CHOOSE RANDOM SNR VALUE\n",
    "        random_snr = np.random.uniform(min_snr, max_snr)\n",
    "        A = rms * random_snr\n",
    "\n",
    "        valid_model_found = False\n",
    "        retry_count = 0\n",
    "\n",
    "        while not valid_model_found and retry_count < max_retries:\n",
    "            # INITIALISE FLAG TO FIND IF TIME IS GOOD TO INJECT IN (THIS IS BASED ON THE TIMES OF THE ORIGINAL LIGHTCURVE)\n",
    "            valid_time_found = False\n",
    "\n",
    "            while not valid_time_found and retry_count < max_retries:\n",
    "                t0 = np.random.uniform(lc['TIME'][0], lc['TIME'][-1])\n",
    "                \n",
    "\n",
    "                # Check if t0 avoids large gaps\n",
    "                valid_t0 = False\n",
    "                for index in large_gaps_indices:\n",
    "                    start_time = lc['TIME'][index] - 1\n",
    "                    end_time = lc['TIME'][index + 1] + 1\n",
    "\n",
    "                    if start_time <= t0 <= end_time:\n",
    "                        break\n",
    "                    elif index < len(lc['TIME']) - 1 and diff[index] > 0.5 and abs(t0 - lc['TIME'][index + 1]) < 1.5:\n",
    "                        break\n",
    "                    elif index > 0 and diff[index - 1] > 0.5 and abs(t0 - lc['TIME'][index]) < 1.5:\n",
    "                        break\n",
    "                    elif t0 <= lc['TIME'][0] + 1:\n",
    "                        break\n",
    "                    elif t0 >= lc['TIME'][-1] - 1.5:\n",
    "                        break\n",
    "                else:\n",
    "                    valid_t0 = True\n",
    "                test.append(t0)\n",
    "                if valid_t0:\n",
    "                    window_start = np.argmin(np.abs(time - (t0 - window_size * np.median(np.diff(time)))))\n",
    "                    window_end = np.argmin(np.abs(time - (t0 + window_size * np.median(np.diff(time))))) + 1\n",
    "                    \n",
    "                    if window_start < 0 or window_end > len(time):\n",
    "                        print(f\"Window out of bounds: start={window_start}, end={window_end}\")\n",
    "                        retry_count += 1\n",
    "                        continue  # Skip to the next iteration\n",
    "                    \n",
    "                    # print(f\"t0: {t0}\")\n",
    "                    # print(f\"window_start index: {window_start}, time: {time[window_start]}\")\n",
    "                    # print(f\"window_end index: {window_end}, time: {time[window_end] if window_end < len(time) else 'out of bounds'}\")\n",
    "                    # print(f\"real[window_start:window_end]: {real[window_start:window_end]}\")\n",
    "                    \n",
    "                    if np.all(real[window_start:window_end] == 1):\n",
    "                        valid_time_found = True\n",
    "                    \n",
    "                    retry_count += 1\n",
    "            ### CREATE MODEL BASED ON THE INTERPOLATED LIGHTCURVE TIME ARRAY\n",
    "            tail = np.round(np.random.uniform(0.35,0.7),3)\n",
    "            sigma = np.round(np.random.uniform(0.15,0.3),3)\n",
    "\n",
    "            tail2 = np.round(np.random.uniform(0.35,0.5),3)\n",
    "            sigma2 = np.round(np.random.uniform(0.3,0.6),3)\n",
    "            shape = np.round(np.random.uniform(1,4.5),3)\n",
    "            \n",
    "            #model = 1 - models.comet_curve(time, A, t0, sigma=sigma, tail=tail)\n",
    "            #model = 1 - models.comet_curve2(time, A, t0, sigma=sigma, tail=tail,shape=3) # sigma 0.46 and tail 0.3 for B Pic\n",
    "            model = 1 - abs(models.ldecomet(time, K=0.1, beta=5, t0=t0, delta_t=0.1))\n",
    "\n",
    "            ### INJECT MODEL INTO INTERPOLATED LIGHTCURVE\n",
    "\n",
    "            # median = np.median(lc['PCA_FLUX'])\n",
    "            # abs_depth = median - np.min(lc['PCA_FLUX'])  # Assuming the minimum of the lightcurve is the minimum point\n",
    "            \n",
    "            f = model * (flux/np.nanmedian(flux))\n",
    "\n",
    "            #f = (f - median) / abs_depth + 1\n",
    "            #valid_model_found=True\n",
    "            if np.all(f >= 0):\n",
    "                valid_model_found = True\n",
    "            else:\n",
    "                retry_count += 1\n",
    "\n",
    "        if not valid_model_found:\n",
    "            print(f\"Failed to create a valid model for file {i} after {max_retries} attempts. Skipping...\")\n",
    "            continue\n",
    "\n",
    "        fluxerror = flux_error/flux\n",
    "\n",
    "        ### APPEND TIMES AND TIC ID FOR THE CATALOG\n",
    "        #random_shift = np.random.uniform(-2, 2)\n",
    "        #t0 = random_shift + t0\n",
    "        times.append(t0)\n",
    "        ticid.append(tic)\n",
    "        snr.append(random_snr)\n",
    "        rms_cat.append(rms)\n",
    "        # plt.plot(time,f)\n",
    "        # plt.show()\n",
    "        # plt.close()\n",
    "\n",
    "        ### SAVE INTO NUMPY FOLDER\n",
    "        np.save(f\"{folder}/{lc_info['TIC_ID']}_sector{sector}.npy\",np.array([time[real == 1], f[real == 1], fluxerror[real == 1], real[real == 1],model[real == 1]]))\n",
    "\n",
    "    except TypeError as e:\n",
    "        fails.append(i)\n",
    "        print(f\"Exception occurred for file {i}: {e}. Continuing...\")\n",
    "        continue"
   ]
  },
  {
   "cell_type": "markdown",
   "id": "f97f7de8-ca54-4d31-91ee-409ac60ab18a",
   "metadata": {},
   "source": [
    "## Build catalog"
   ]
  },
  {
   "cell_type": "code",
   "execution_count": 6,
   "id": "dda8f149-427c-495d-8bb5-87c6b889c9a5",
   "metadata": {},
   "outputs": [],
   "source": [
    "data = pd.DataFrame(data=[ticid,times,snr,rms_cat]).T\n",
    "data.columns = ['TIC','tpeak','SNR','RMS']\n",
    "data.TIC = data.TIC.astype(int)\n",
    "t = Table.from_pandas(data)\n",
    "\n",
    "t.write(f'../catalogs/{name}.txt', format='ascii', overwrite=True) "
   ]
  },
  {
   "cell_type": "code",
   "execution_count": 7,
   "id": "224c725d-954f-40f1-8204-1287ae52ce61",
   "metadata": {},
   "outputs": [
    {
     "name": "stdout",
     "output_type": "stream",
     "text": [
      "Reading in training set files.\n"
     ]
    },
    {
     "name": "stderr",
     "output_type": "stream",
     "text": [
      "100%|███████████████████████████████████████████| 15279/15279 [00:03<00:00, 4440.94it/s]\n"
     ]
    },
    {
     "name": "stdout",
     "output_type": "stream",
     "text": [
      "Number of positive class training data: 12223\n",
      "Number of negative class training data: 11831\n",
      "Number of positive class validation data: 1528\n",
      "Number of negative class validation data: 1479\n",
      "Size of augmented data (training set only): 0\n",
      "Class label (training): 0, Count: 11831\n",
      "Class label (training): 1, Count: 12223\n",
      "Class label (validation): 0, Count: 1479\n",
      "Class label (validation): 1, Count: 1528\n",
      "Total size of training set: 24054\n",
      "Total size of validation set: 3007\n",
      "Total size of test set: 3007\n",
      "Approximate class imbalance: -3.0\n"
     ]
    }
   ],
   "source": [
    "ds = stella.FlareDataSet(fn_dir=f'/Users/azib/Documents/open_source/nets2/models/{name}/',\n",
    "                         catalog=f'/Users/azib/Documents/open_source/nets2/catalogs/{name}.txt',cadences=168,training=0.8,validation=0.1,frac_balance=0.66)"
   ]
  },
  {
   "cell_type": "code",
   "execution_count": 8,
   "id": "58fc836b-3117-4385-a2ee-6dab30426e86",
   "metadata": {},
   "outputs": [
    {
     "data": {
      "image/png": "[encoded data removed]",
      "text/plain": [
       "<Figure size 1000x300 with 2 Axes>"
      ]
     },
     "metadata": {},
     "output_type": "display_data"
    }
   ],
   "source": [
    "n = 23\n",
    "ind_pc = np.where(ds.train_labels==1)[0] # Flares\n",
    "ind_nc = np.where(ds.train_labels!=1)[0] # No flares\n",
    "\n",
    "fig, (ax1, ax2) = plt.subplots(ncols=2, figsize=(10,3),\n",
    "                               sharex=True, sharey=True)\n",
    "ax1.plot(ds.train_data[ind_pc[n]], 'r')\n",
    "ax1.set_title('Comet')\n",
    "ax1.set_xlabel('Cadences')\n",
    "ax2.plot(ds.train_data[ind_nc[n]], 'k')\n",
    "ax2.set_title('No Comet')\n",
    "ax2.set_xlabel('Cadences');"
   ]
  },
  {
   "cell_type": "markdown",
   "id": "ac5efb06-5464-40d2-9f5c-9da595ff06be",
   "metadata": {},
   "source": [
    "### Example of Exocomet Models"
   ]
  },
  {
   "cell_type": "code",
   "execution_count": 9,
   "id": "cc5d9918-e212-4758-a6ed-9e96bdf41edd",
   "metadata": {},
   "outputs": [
    {
     "name": "stderr",
     "output_type": "stream",
     "text": [
      "100%|█████████████████████████████████████████████████| 122/122 [19:10<00:00,  9.43s/it]\n"
     ]
    }
   ],
   "source": [
    "save_plots_name = f'../modelplots/exocomet-models-{name}/'\n",
    "os.makedirs(save_plots_name,exist_ok=True)\n",
    "\n",
    "\n",
    "dsmodels = ds.train_data[ind_pc]\n",
    "dsnomodels = ds.train_data[ind_nc]\n",
    "\n",
    "num_sets = dsmodels.shape[0] // 100\n",
    "\n",
    "for set_index in tqdm(range(num_sets)):\n",
    "    start_index = set_index * 100\n",
    "    end_index = min((set_index + 1) * 100, dsmodels.shape[0])  # Ensure not to exceed the length of the data\n",
    "\n",
    "    # Create a new 10x10 grid of subplots for each set\n",
    "    fig, axs = plt.subplots(10, 10, figsize=(20, 20))\n",
    "\n",
    "    # Flatten the axes array for easier iteration\n",
    "    axs = axs.flatten()\n",
    "\n",
    "    # Iterate over the elements in the current set and plot each in the grid\n",
    "    for i in range(start_index, end_index):\n",
    "        plot_index = i % 100  # Calculate the index within the current grid\n",
    "        axs[plot_index].plot(dsmodels[i, :, 0])  # Assuming you want to plot the first dimension of your array\n",
    "        axs[plot_index].set_title(f\"Plot {i}\")  # Title for each subplot\n",
    "\n",
    "    # Hide any remaining empty subplots\n",
    "    for j in range(end_index - start_index, len(axs)):\n",
    "        axs[j].axis('off')\n",
    "\n",
    "    \n",
    "    plt.tight_layout()  # Adjust layout\n",
    "    plt.savefig(f'{save_plots_name}/exoplanet-models-{start_index}-{end_index}.png',dpi=200,bbox_inches='tight')\n",
    "    plt.close() \n",
    "    "
   ]
  }
 ],
 "metadata": {
  "kernelspec": {
   "display_name": "nets2",
   "language": "python",
   "name": "nets2"
  },
  "language_info": {
   "codemirror_mode": {
    "name": "ipython",
    "version": 3
   },
   "file_extension": ".py",
   "mimetype": "text/x-python",
   "name": "python",
   "nbconvert_exporter": "python",
   "pygments_lexer": "ipython3",
   "version": "3.8.19"
  }
 },
 "nbformat": 4,
 "nbformat_minor": 5
}
