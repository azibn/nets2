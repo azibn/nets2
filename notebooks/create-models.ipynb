{
 "cells": [
  {
   "cell_type": "markdown",
   "id": "bb65436b-aaa2-462f-b955-7a8b871111c9",
   "metadata": {},
   "source": [
    "# Creating lightcurve models\n",
    "\n",
    "Final version is the executable script `modelmaker.py`."
   ]
  },
  {
   "cell_type": "code",
   "execution_count": 1,
   "id": "70240a3f-bff6-4946-ac16-4a0709b2ae33",
   "metadata": {},
   "outputs": [
    {
     "name": "stderr",
     "output_type": "stream",
     "text": [
      "/Users/azib/micromamba/envs/nets2/lib/python3.8/site-packages/lightkurve/config/__init__.py:119: UserWarning: The default Lightkurve cache directory, used by download(), etc., has been moved to /Users/azib/.lightkurve/cache. Please move all the files in the legacy directory /Users/azib/.lightkurve-cache to the new location and remove the legacy directory. Refer to https://docs.lightkurve.org/reference/config.html#default-cache-directory-migration for more information.\n",
      "  warnings.warn(\n"
     ]
    }
   ],
   "source": [
    "import os, sys\n",
    "sys.path.insert(1, '../stella/')\n",
    "sys.path.insert(1, '../scripts/')\n",
    "import numpy as np\n",
    "from utils import *\n",
    "import models\n",
    "import matplotlib.pyplot as plt\n",
    "from astropy.table import Table\n",
    "from glob import glob\n",
    "from tqdm import tqdm\n",
    "import wotan\n",
    "import lightkurve as lk\n",
    "import stella\n",
    "import pandas as pd\n",
    "import random\n",
    "import batman \n",
    "import warnings\n",
    "from sklearn.preprocessing import MinMaxScaler, RobustScaler"
   ]
  },
  {
   "cell_type": "markdown",
   "id": "88ddcc26-26c9-4851-9e79-5d2d099085a6",
   "metadata": {},
   "source": [
    "## Load lightcurves"
   ]
  },
  {
   "cell_type": "code",
   "execution_count": 2,
   "id": "a461e784-c9d5-4ee4-9404-30cb3b972bd4",
   "metadata": {
    "scrolled": true
   },
   "outputs": [],
   "source": [
    "files = glob('../data/eleanor/s0018/*.fits', recursive=True)\n",
    "#files = glob('../data/kepler/Q0/*.fits',recursive=True)\n",
    "random.shuffle(files)"
   ]
  },
  {
   "cell_type": "markdown",
   "id": "ef30fb31-d596-49af-8372-7901d8f4a95c",
   "metadata": {},
   "source": [
    "## Functions"
   ]
  },
  {
   "cell_type": "code",
   "execution_count": 6,
   "id": "8855bd7a-c70b-4796-a11b-9464d9f4eb38",
   "metadata": {},
   "outputs": [],
   "source": [
    "def calculate_timestep(table):\n",
    "    \"\"\"\n",
    "    Function: Calculates the median value of the time differences between data points in a given table. \n",
    "    Provides an estimate of the timestep (or time delta) between consecutive data points.\n",
    "\n",
    "    Parameters:\n",
    "    :table (array or pandas.DataFrame): The input table containing time-series data.\n",
    "\n",
    "    Returns:\n",
    "    :dt (float): The estimated time interval or timestep between consecutive data points.\"\"\"\n",
    "\n",
    "    try:\n",
    "        dt = [ table[i+1][0] - table[i][0] for i in range(len(table)-1) ] # calculates difference between (ith+1) - (ith) point \n",
    "        dt.sort()\n",
    "        return dt[int(len(dt)/2)] # median of them.\n",
    "    except:\n",
    "        return np.median(np.diff(table['time'])) ## change this to account for any time column names\n",
    "\n",
    "    \n",
    "\n",
    "def clean_data(table):\n",
    "    \"\"\"\n",
    "    Function: Interpolating missing data points, ensuring equal time gaps between points. \n",
    "    Returns five numpy arrays: time, flux, quality, real, and flux_error. Real is 0 if data point interpolated, 1 otherwise.\n",
    "\n",
    "    Parameters:\n",
    "    :table (astropy.table.table): The input table containing time-series data.\n",
    "    \n",
    "    Returns:\n",
    "    :time (numpy.ndarray): An array of timestamps for each data point, including the interpolated points.\n",
    "    :flux (numpy.ndarray): An array of flux values for each data point, including the interpolated points.\n",
    "    :quality (numpy.ndarray): An array indicating the quality of each data point, including the interpolated points.\n",
    "    :real (numpy.ndarray): An array indicating whether each data point is real (1) or interpolated (0).\n",
    "    :flux_error (numpy.ndarray): An array of flux error values for each data point, including the interpolated points.\"\"\"\n",
    "\n",
    "\n",
    "    time = []\n",
    "    flux = []\n",
    "    quality = []\n",
    "    real = []\n",
    "    flux_error = []\n",
    "    timestep = calculate_timestep(table)\n",
    "\n",
    "\n",
    "    ### this scale factor ensures that you can use any cadence of lightcurves. 48 cadences = 1 day.\n",
    "    factor = ((1/48)/timestep)\n",
    "\n",
    "    for row in table:\n",
    "        ti, fi, qi, fei = row\n",
    "\n",
    "        if len(time) > 0:\n",
    "            steps = int(round( (ti - time[-1])/timestep * factor)) # (y2-y1)/(x2-x1)\n",
    "            if steps > 1:\n",
    "                fluxstep = (fi - flux[-1])/steps\n",
    "                fluxerror_step = (fei - flux_error[-1])/steps\n",
    "\n",
    "                # For small gaps, pretend interpolated data is real.\n",
    "                if steps > 2:\n",
    "                    set_real=0\n",
    "                else:\n",
    "                    set_real=1\n",
    "\n",
    "                for _ in range(steps-1):\n",
    "                    time.append(timestep + time[-1])\n",
    "                    flux.append(fluxstep + flux[-1])\n",
    "                    flux_error.append(fluxerror_step + flux_error[-1])\n",
    "\n",
    "                    quality.append(0)\n",
    "                    real.append(set_real)\n",
    "        time.append(ti)\n",
    "        flux.append(fi)\n",
    "        quality.append(qi)\n",
    "        real.append(1)\n",
    "        flux_error.append(fei)\n",
    "\n",
    "    return [np.array(x) for x in [time,flux,quality,real,flux_error]]\n",
    "\n",
    "def scale_relative_to_baseline(flux):\n",
    "    baseline = np.median(flux)  # or use a more sophisticated method to determine baseline\n",
    "    scaled_flux = (flux - baseline) / baseline\n",
    "    return (scaled_flux - np.min(scaled_flux)) / (np.max(scaled_flux) - np.min(scaled_flux))\n",
    "\n",
    "def normalise_depth(flux):\n",
    "    median = np.median(flux)\n",
    "    min_flux = np.min(flux)\n",
    "    abs_depth = median - min_flux\n",
    "    depth_normalised_lightcurve = ((flux - median) / abs_depth + 1)\n",
    "    return depth_normalised_lightcurve"
   ]
  },
  {
   "cell_type": "markdown",
   "id": "df4455a7-6985-4274-8129-e3a783e7007e",
   "metadata": {},
   "source": [
    "# Create `comet` models"
   ]
  },
  {
   "cell_type": "code",
   "execution_count": 18,
   "id": "790583c3-4b54-47e2-82f7-03a6d14177f8",
   "metadata": {},
   "outputs": [],
   "source": [
    "name = 'comets50k'\n",
    "folder = f'../models/{name}' "
   ]
  },
  {
   "cell_type": "code",
   "execution_count": 19,
   "id": "dc8aab2e-fa91-4d95-9bec-73caeccc77ed",
   "metadata": {},
   "outputs": [
    {
     "name": "stderr",
     "output_type": "stream",
     "text": [
      "  4%|████████                                                                                                                                                                                                              | 1893/50000 [00:57<22:14, 36.04it/s]/Users/azib/micromamba/envs/nets2/lib/python3.8/site-packages/numpy/lib/nanfunctions.py:1872: RuntimeWarning: Degrees of freedom <= 0 for slice.\n",
      "  var = nanvar(a, axis=axis, dtype=dtype, out=out, ddof=ddof,\n",
      "100%|█████████████████████████████████████████████████████████████████████████████████████████████████████████████████████████████████████████████████████████████████████████████████████████████████████████████████████| 50000/50000 [27:11<00:00, 30.65it/s]\n"
     ]
    }
   ],
   "source": [
    "os.makedirs(folder, exist_ok=True)\n",
    "fails = []\n",
    "times = []\n",
    "rmsfails = []\n",
    "ticid = []\n",
    "snr = []\n",
    "rms_cat = []\n",
    "test = []\n",
    "amp = []\n",
    "\n",
    "min_snr = 5\n",
    "max_snr = 20\n",
    "window_size = 84  # Number of cadences representing the window size (3.5 days)\n",
    "max_retries = 20  # Maximum number of retries for model creation\n",
    "\n",
    "for i in tqdm(files[0:50000]):\n",
    "    try:\n",
    "        ### READ IN LIGHTCURVE\n",
    "        lc, lc_info = import_lightcurve(i, drop_bad_points=True)\n",
    "        sector = f\"{lc_info['sector']:02d}\"\n",
    "\n",
    "        ### FLATTEN THE ORIGINAL LIGHTCURVE\n",
    "        flat_flux = wotan.flatten(lc['TIME'], lc['PCA_FLUX'], method='median', window_length=0.5) # lc['PCA_FLUX']\n",
    "\n",
    "        ### GET RMS OF FLATTENED ORIGINAL LIGHTCURVE\n",
    "        rms = np.nanstd(flat_flux)\n",
    "        if np.isnan(rms):\n",
    "            rmsfails.append(rms)\n",
    "            continue\n",
    "\n",
    "        ### IDENTIFY LARGE GAPS IN ORIGINAL LIGHTCURVE\n",
    "        diff = np.diff(lc['TIME'])\n",
    "        large_gaps_indices = np.where(diff > 1)[0]\n",
    "\n",
    "        ### CREATE COPY OF LIGHTCURVE\n",
    "        lcc = lc.copy()\n",
    "        lcc = lcc[lcc['QUALITY'] == 0]\n",
    "        tic = lc_info['TIC_ID']\n",
    "        lcc = lcc['TIME', 'PCA_FLUX', 'QUALITY', 'FLUX_ERR']\n",
    "\n",
    "        ### INTERPOLATE THE COPIED LIGHTCURVE\n",
    "        time, flux, quality, real, flux_error = clean_data(lcc)\n",
    "\n",
    "        ### CHOOSE RANDOM SNR VALUE\n",
    "        random_snr = np.random.uniform(min_snr, max_snr)\n",
    "        A = rms * random_snr\n",
    "        amp.append(A)\n",
    "\n",
    "        valid_model_found = False\n",
    "        retry_count = 0\n",
    "\n",
    "        while not valid_model_found and retry_count < max_retries:\n",
    "            # INITIALISE FLAG TO FIND IF TIME IS GOOD TO INJECT IN (THIS IS BASED ON THE TIMES OF THE ORIGINAL LIGHTCURVE)\n",
    "            valid_time_found = False\n",
    "\n",
    "            while not valid_time_found and retry_count < max_retries:\n",
    "                t0 = np.random.uniform(lc['TIME'][0], lc['TIME'][-1])\n",
    "                \n",
    "\n",
    "                # Check if t0 avoids large gaps\n",
    "                valid_t0 = False\n",
    "                for index in large_gaps_indices:\n",
    "                    start_time = lc['TIME'][index] - 1\n",
    "                    end_time = lc['TIME'][index + 1] + 1\n",
    "\n",
    "                    if start_time <= t0 <= end_time:\n",
    "                        break\n",
    "                    elif index < len(lc['TIME']) - 1 and diff[index] > 0.5 and abs(t0 - lc['TIME'][index + 1]) < 1.5:\n",
    "                        break\n",
    "                    elif index > 0 and diff[index - 1] > 0.5 and abs(t0 - lc['TIME'][index]) < 1.5:\n",
    "                        break\n",
    "                    elif t0 <= lc['TIME'][0] + 1:\n",
    "                        break\n",
    "                    elif t0 >= lc['TIME'][-1] - 1.5:\n",
    "                        break\n",
    "                else:\n",
    "                    valid_t0 = True\n",
    "                test.append(t0)\n",
    "                if valid_t0:\n",
    "                    window_start = np.argmin(np.abs(time - (t0 - window_size * np.median(np.diff(time)))))\n",
    "                    window_end = np.argmin(np.abs(time - (t0 + window_size * np.median(np.diff(time))))) + 1\n",
    "                    \n",
    "                    if window_start < 0 or window_end > len(time):\n",
    "                        print(f\"Window out of bounds: start={window_start}, end={window_end}\")\n",
    "                        retry_count += 1\n",
    "                        continue  # Skip to the next iteration\n",
    "                    \n",
    "                    if np.all(real[window_start:window_end] == 1):\n",
    "                        valid_time_found = True\n",
    "                    \n",
    "                    retry_count += 1\n",
    "            ### CREATE MODEL BASED ON THE INTERPOLATED LIGHTCURVE TIME ARRAY\n",
    "\n",
    "            ### REGULAR COMET CURVE\n",
    "            tail = np.round(np.random.uniform(0.35,0.7),3)\n",
    "            sigma = np.round(np.random.uniform(0.15,0.3),3)\n",
    "\n",
    "            ### UPDATED COMET CURVE\n",
    "            sigma2 = np.round(np.random.uniform(0.25,0.7),3)\n",
    "            tail2 = np.round(np.random.uniform(0.35,0.5),3)\n",
    "            shape = np.round(np.random.uniform(1.5,4),3)\n",
    "\n",
    "            ### SKEWED GAUSSIAN\n",
    "            skew = 3\n",
    "            \n",
    "            ###### DURATION IS AN ESTIMATE, NOT ACTUAL DURATION OF TRANSIT DUE TO SKEW NATURE\n",
    "            duration = 0.2\n",
    "\n",
    "            ### APPLY MODEL\n",
    "            #model = 1 - models.comet_curve(time, A, t0, sigma=sigma, tail=tail)\n",
    "            model = 1 - models.comet_curve2(time, A, t0, sigma=sigma2, tail=tail2, shape=shape) # sigma 0.46 and tail 0.3 for B Pic\n",
    "            #model = models.skewed_gaussian(time, alpha=skew, t0=t0, sigma=duration, depth=A)\n",
    "\n",
    "            ### INJECT MODEL INTO INTERPOLATED LIGHTCURVE\n",
    "\n",
    "            # median = np.median(lc['PCA_FLUX'])\n",
    "            # abs_depth = median - np.min(lc['PCA_FLUX'])  # Assuming the minimum of the lightcurve is the minimum point\n",
    "\n",
    "            \n",
    "            f = model * (flux/np.nanmedian(flux))\n",
    "            f = scale_relative_to_baseline(f)\n",
    "\n",
    "            # time_range = 1.5  # in days\n",
    "    \n",
    "            # # Find indices within the specified range of t0\n",
    "            # in_range = (time >= t0 - time_range) & (time <= t0 + time_range)\n",
    "            \n",
    "            # # Check if max of normalized flux within the range is > 1.5\n",
    "            # if np.max(f[in_range]) > 1.5:\n",
    "            #     retry_count += 1\n",
    "            #     continue  # Skip to next iteration of the while loop\n",
    "            \n",
    "            #if np.all(f >= 0) and np.all(time[window_start:window_end] >= lc['TIME'][0]) and np.all(time[window_start:window_end] <= lc['TIME'][-1]):\n",
    "            valid_model_found = True\n",
    "            #else:\n",
    "            #    retry_count += 1\n",
    "\n",
    "        if not valid_model_found:\n",
    "            print(f\"Failed to create a valid model for file {i} after {max_retries} attempts. Skipping...\")\n",
    "            continue\n",
    "\n",
    "        fluxerror = flux_error/flux\n",
    "\n",
    "        ### APPEND TIMES AND TIC ID FOR THE CATALOG\n",
    "        #t0 = random_shift + t0\n",
    "        times.append(t0)\n",
    "        ticid.append(tic)\n",
    "        snr.append(random_snr)\n",
    "        rms_cat.append(rms)\n",
    "\n",
    "        ### SAVE INTO NUMPY FOLDER\n",
    "        np.save(f\"{folder}/{lc_info['TIC_ID']}_sector{sector}_exocomet.npy\",np.array([time[real == 1], f[real == 1], fluxerror[real == 1], real[real == 1],model[real == 1]]))\n",
    "\n",
    "    except TypeError as e:\n",
    "        fails.append(i)\n",
    "        print(f\"Exception occurred for file {i}: {e}. Continuing...\")\n",
    "        continue"
   ]
  },
  {
   "cell_type": "markdown",
   "id": "f97f7de8-ca54-4d31-91ee-409ac60ab18a",
   "metadata": {},
   "source": [
    "## Build `comet` catalog"
   ]
  },
  {
   "cell_type": "code",
   "execution_count": 8,
   "id": "dda8f149-427c-495d-8bb5-87c6b889c9a5",
   "metadata": {},
   "outputs": [
    {
     "name": "stdout",
     "output_type": "stream",
     "text": [
      "comets-normalise-depth saved.\n"
     ]
    }
   ],
   "source": [
    "data = pd.DataFrame(data=[ticid,times,snr,rms_cat]).T\n",
    "data.columns = ['TIC','tpeak','SNR','RMS']\n",
    "data.TIC = data.TIC.astype(int)\n",
    "t = Table.from_pandas(data)\n",
    "\n",
    "t.write(f'../catalogs/{name}.txt', format='ascii', overwrite=True) \n",
    "print(f\"{name} saved.\")"
   ]
  },
  {
   "cell_type": "code",
   "execution_count": 9,
   "id": "224c725d-954f-40f1-8204-1287ae52ce61",
   "metadata": {
    "scrolled": true
   },
   "outputs": [
    {
     "name": "stdout",
     "output_type": "stream",
     "text": [
      "Reading in training set files.\n"
     ]
    },
    {
     "name": "stderr",
     "output_type": "stream",
     "text": [
      "100%|███████████████████████████████████████████████████████████████████████████████████████████████████████████████████████████████████████████████████████████████████████████████████████████████████████████████████| 49933/49933 [00:12<00:00, 4108.34it/s]\n"
     ]
    },
    {
     "name": "stdout",
     "output_type": "stream",
     "text": [
      "[    1     3     4 ... 63776 63777 63779]\n",
      "Number of positive class training data: 39938\n",
      "Number of negative class training data: 31829\n",
      "Number of positive class validation data: 4993\n",
      "Number of negative class validation data: 2980\n",
      "Size of augmented data (training set only): 7987\n",
      "Class label (training): 0.0, Count: 31829\n",
      "Class label (training): 1.0, Count: 39938\n",
      "Class label (validation): 0, Count: 2980\n",
      "Class label (validation): 1, Count: 4993\n",
      "Total size of training set: 71767\n",
      "Total size of validation set: 7973\n",
      "Total size of test set: 7973\n",
      "Approximate class imbalance: -25.0\n"
     ]
    }
   ],
   "source": [
    "ds = stella.FlareDataSet(fn_dir=f'/Users/azib/Documents/open_source/nets2/models/{name}/',\n",
    "                         catalog=f'/Users/azib/Documents/open_source/nets2/catalogs/{name}.txt',cadences=168,frac_balance=0.77,augment_portion=0.2)"
   ]
  },
  {
   "cell_type": "markdown",
   "id": "ff10bbb3-e9e8-490a-8577-5993741d4809",
   "metadata": {},
   "source": [
    "### `ds` imported from existing catalogue"
   ]
  },
  {
   "cell_type": "code",
   "execution_count": 20,
   "id": "f8f57a61-7edf-4ffd-b7b3-852327ebaca2",
   "metadata": {},
   "outputs": [
    {
     "name": "stdout",
     "output_type": "stream",
     "text": [
      "Reading in training set files.\n"
     ]
    },
    {
     "name": "stderr",
     "output_type": "stream",
     "text": [
      "100%|█████████████████████████████████████████████████████████████████████████████| 49998/49998 [00:11<00:00, 4243.77it/s]\n"
     ]
    },
    {
     "name": "stdout",
     "output_type": "stream",
     "text": [
      "[    1     2     3 ... 63908 63909 63910]\n",
      "Number of positive class training data: 39998\n",
      "Number of negative class training data: 31912\n",
      "Number of positive class validation data: 5000\n",
      "Number of negative class validation data: 2989\n",
      "Size of augmented data (training set only): 7999\n",
      "Class label (training): 0.0, Count: 31912\n",
      "Class label (training): 1.0, Count: 39998\n",
      "Class label (validation): 0, Count: 2989\n",
      "Class label (validation): 1, Count: 5000\n",
      "Total size of training set: 71910\n",
      "Total size of validation set: 7989\n",
      "Total size of test set: 7989\n",
      "Approximate class imbalance: -25.0\n"
     ]
    }
   ],
   "source": [
    "ds = stella.FlareDataSet(fn_dir=f'/Users/azib/Documents/open_source/nets2/models/comets50k-median-normalised/',\n",
    "                         catalog=f'/Users/azib/Documents/open_source/nets2/catalogs/comets50k-median-normalised.txt',cadences=168,frac_balance=0.77,augment_portion=0.2)"
   ]
  },
  {
   "cell_type": "code",
   "execution_count": 33,
   "id": "58fc836b-3117-4385-a2ee-6dab30426e86",
   "metadata": {},
   "outputs": [
    {
     "data": {
      "image/png": "[encoded data removed]",
      "text/plain": [
       "<Figure size 1000x300 with 2 Axes>"
      ]
     },
     "metadata": {},
     "output_type": "display_data"
    }
   ],
   "source": [
    "n = 26\n",
    "ind_pc = np.where(ds.train_labels==1)[0] # Flares\n",
    "ind_nc = np.where(ds.train_labels!=1)[0] # No flares\n",
    "\n",
    "fig, (ax1, ax2) = plt.subplots(ncols=2, figsize=(10,3),\n",
    "                               sharex=True, sharey=True)\n",
    "ax1.plot(ds.train_data[ind_pc[n]], 'r')\n",
    "ax1.set_title('Comet')\n",
    "ax1.set_xlabel('Cadences')\n",
    "ax2.plot(ds.train_data[ind_nc[n]], 'k')\n",
    "ax2.set_title('No Comet')\n",
    "ax2.set_xlabel('Cadences');"
   ]
  },
  {
   "cell_type": "markdown",
   "id": "ac5efb06-5464-40d2-9f5c-9da595ff06be",
   "metadata": {},
   "source": [
    "### Plots of Exocomet Models"
   ]
  },
  {
   "cell_type": "code",
   "execution_count": 35,
   "id": "cc5d9918-e212-4758-a6ed-9e96bdf41edd",
   "metadata": {},
   "outputs": [
    {
     "name": "stderr",
     "output_type": "stream",
     "text": [
      "100%|█████████████████████████████████████████████████████████████████████████████████| 399/399 [1:16:47<00:00, 11.55s/it]\n"
     ]
    }
   ],
   "source": [
    "save_plots_name = f'../modelplots/{name}/'\n",
    "os.makedirs(save_plots_name,exist_ok=True)\n",
    "\n",
    "\n",
    "dsmodels = ds.train_data[ind_pc]\n",
    "dsnomodels = ds.train_data[ind_pc]\n",
    "\n",
    "num_sets = dsmodels.shape[0] // 100\n",
    "\n",
    "for set_index in tqdm(range(num_sets)):\n",
    "    start_index = set_index * 100\n",
    "    end_index = min((set_index + 1) * 100, dsmodels.shape[0])  # Ensure not to exceed the length of the data\n",
    "\n",
    "    # Create a new 10x10 grid of subplots for each set\n",
    "    fig, axs = plt.subplots(10, 10, figsize=(20, 20))\n",
    "\n",
    "    # Flatten the axes array for easier iteration\n",
    "    axs = axs.flatten()\n",
    "\n",
    "    # Iterate over the elements in the current set and plot each in the grid\n",
    "    for i in range(start_index, end_index):\n",
    "        plot_index = i % 100  # Calculate the index within the current grid\n",
    "        axs[plot_index].plot(dsmodels[i, :, 0])  # Assuming you want to plot the first dimension of your array\n",
    "        axs[plot_index].set_title(f\"Plot {i}\")  # Title for each subplot\n",
    "\n",
    "    # Hide any remaining empty subplots\n",
    "    for j in range(end_index - start_index, len(axs)):\n",
    "        axs[j].axis('off')\n",
    "\n",
    "    \n",
    "    plt.tight_layout()  # Adjust layout\n",
    "    plt.savefig(f'{save_plots_name}/{start_index}-{end_index}.png',dpi=200,bbox_inches='tight')\n",
    "    plt.close() \n",
    "    "
   ]
  },
  {
   "cell_type": "markdown",
   "id": "12d6033f-ed25-40b6-9bb0-5d2b0def0e7e",
   "metadata": {},
   "source": [
    "--- \n",
    "\n",
    "# Build `exoplanet/binary` models\n",
    "Models are effectively the same, I just changed `alpha=1.7` and `params.u` to be between 0.1-0.9 for binaries"
   ]
  },
  {
   "cell_type": "code",
   "execution_count": 10,
   "id": "7bd20299-37ee-4820-b137-9b2e9ab826ce",
   "metadata": {},
   "outputs": [],
   "source": [
    "import signal\n",
    "import re"
   ]
  },
  {
   "cell_type": "code",
   "execution_count": 11,
   "id": "db59d976-7cc5-42b3-96da-548b48db941d",
   "metadata": {},
   "outputs": [],
   "source": [
    "name2 = 'exoplanetstest'\n",
    "folder2 = f'../models/{name}' \n",
    "os.makedirs(folder2, exist_ok=True)\n",
    "\n",
    "\n",
    "def timeout_handler(signum, frame):\n",
    "    raise TimeoutError(\"Timeout reached.\")"
   ]
  },
  {
   "cell_type": "code",
   "execution_count": 12,
   "id": "70cf9a88-bae9-47fa-a75d-3464d722a389",
   "metadata": {},
   "outputs": [],
   "source": [
    "target_IDs = [int(re.search(r\"(\\d{16})\", filename).group(1).lstrip('0')) for filename in files]"
   ]
  },
  {
   "cell_type": "code",
   "execution_count": 13,
   "id": "39600440-8bcc-45b4-9f9c-73273b49254d",
   "metadata": {},
   "outputs": [
    {
     "data": {
      "image/png": "[encoded data removed]",
      "text/plain": [
       "<Figure size 800x600 with 1 Axes>"
      ]
     },
     "metadata": {},
     "output_type": "display_data"
    },
    {
     "ename": "NameError",
     "evalue": "name 'Catalogs' is not defined",
     "output_type": "error",
     "traceback": [
      "\u001b[0;31m---------------------------------------------------------------------------\u001b[0m",
      "\u001b[0;31mNameError\u001b[0m                                 Traceback (most recent call last)",
      "Cell \u001b[0;32mIn[13], line 20\u001b[0m\n\u001b[1;32m     18\u001b[0m plt\u001b[38;5;241m.\u001b[39mtitle(\u001b[38;5;124mf\u001b[39m\u001b[38;5;124m'\u001b[39m\u001b[38;5;124mDistribution of Orbital Periods (alpha=\u001b[39m\u001b[38;5;132;01m{\u001b[39;00malpha\u001b[38;5;132;01m}\u001b[39;00m\u001b[38;5;124m)\u001b[39m\u001b[38;5;124m'\u001b[39m)\n\u001b[1;32m     19\u001b[0m plt\u001b[38;5;241m.\u001b[39mshow()\n\u001b[0;32m---> 20\u001b[0m TIC_table \u001b[38;5;241m=\u001b[39m \u001b[43mCatalogs\u001b[49m\u001b[38;5;241m.\u001b[39mquery_object(\u001b[38;5;124mf\u001b[39m\u001b[38;5;124m'\u001b[39m\u001b[38;5;124mTIC 270577175\u001b[39m\u001b[38;5;124m'\u001b[39m, catalog\u001b[38;5;241m=\u001b[39m\u001b[38;5;124m\"\u001b[39m\u001b[38;5;124mTIC\u001b[39m\u001b[38;5;124m\"\u001b[39m)\n\u001b[1;32m     21\u001b[0m r_star \u001b[38;5;241m=\u001b[39m TIC_table[\u001b[38;5;124m'\u001b[39m\u001b[38;5;124mrad\u001b[39m\u001b[38;5;124m'\u001b[39m][\u001b[38;5;241m0\u001b[39m]\n\u001b[1;32m     22\u001b[0m m_star \u001b[38;5;241m=\u001b[39m TIC_table[\u001b[38;5;124m'\u001b[39m\u001b[38;5;124mmass\u001b[39m\u001b[38;5;124m'\u001b[39m][\u001b[38;5;241m0\u001b[39m]\n",
      "\u001b[0;31mNameError\u001b[0m: name 'Catalogs' is not defined"
     ]
    }
   ],
   "source": [
    "alpha = 1.2\n",
    "\n",
    "# DEFINE PERIOD PARAM SPACE\n",
    "period_min = 3\n",
    "period_max = 700.0\n",
    "\n",
    "# GENERATE ORBITAL PERIODS\n",
    "periods = []\n",
    "for _ in range(5000):\n",
    "    random_value = np.random.uniform(0, 1)\n",
    "    period = period_min * (period_max / period_min) ** (random_value ** (1 / alpha))\n",
    "    periods.append(period)\n",
    "\n",
    "plt.figure(figsize=(8, 6))\n",
    "plt.hist(periods, bins=30,  alpha=0.6, edgecolor='black')\n",
    "plt.xlabel('Orbital Period (days)')\n",
    "plt.ylabel('Probability Density')\n",
    "plt.title(f'Distribution of Orbital Periods (alpha={alpha})')\n",
    "plt.show()\n",
    "TIC_table = Catalogs.query_object(f'TIC 270577175', catalog=\"TIC\")\n",
    "r_star = TIC_table['rad'][0]\n",
    "m_star = TIC_table['mass'][0]"
   ]
  },
  {
   "cell_type": "code",
   "execution_count": null,
   "id": "6f062234-1860-4421-9f51-174e4b0f6142",
   "metadata": {},
   "outputs": [],
   "source": [
    "min_snr = 3\n",
    "max_snr = 20\n",
    "window_size = 84\n",
    "max_retries = 10\n",
    "timeout_duration = 2  # Adjust as needed\n",
    "retry_delay = 1  # Adjust as needed\n",
    "\n",
    "times2 = []\n",
    "ticid2 = []\n",
    "snr2 = []\n",
    "p = []\n",
    "rms_cat2 = []\n",
    "\n",
    "for target_ID in tqdm(files[0:5000]):\n",
    "    try:\n",
    "        # Read in lightcurve\n",
    "        lc, lc_info = import_lightcurve(target_ID, drop_bad_points=True)\n",
    "        sector = f\"{lc_info['sector']:02d}\"\n",
    "        tic = lc_info['TIC_ID']\n",
    "\n",
    "        # Flatten the original lightcurve\n",
    "        flat_flux = wotan.flatten(lc['TIME'], lc['PCA_FLUX'], method='median', window_length=1)\n",
    "\n",
    "        # Get RMS of flattened original lightcurve\n",
    "        rms = np.nanstd(flat_flux)\n",
    "        if np.isnan(rms):\n",
    "            continue\n",
    "\n",
    "        # Identify large gaps in original lightcurve\n",
    "        diff = np.diff(lc['TIME'])\n",
    "        large_gaps_indices = np.where(diff > 1)[0]\n",
    "\n",
    "        # Create copy of lightcurve and clean data\n",
    "        lcc = lc.copy()\n",
    "        lcc = lcc[lcc['QUALITY'] == 0]\n",
    "        lcc = lcc['TIME', 'PCA_FLUX', 'QUALITY', 'FLUX_ERR']\n",
    "        time, flux, quality, real, flux_error = clean_data(lcc)\n",
    "\n",
    "        # Choose random SNR value and calculate amplitude\n",
    "        random_snr = np.random.uniform(min_snr, max_snr)\n",
    "        A = rms * random_snr\n",
    "\n",
    "        valid_model_found = False\n",
    "        retry_count = 0\n",
    "\n",
    "        while not valid_model_found and retry_count < max_retries:\n",
    "            signal.signal(signal.SIGALRM, timeout_handler)\n",
    "            signal.alarm(timeout_duration)\n",
    "\n",
    "            try:\n",
    "                # Find valid injection time\n",
    "                valid_time_found = False\n",
    "                while not valid_time_found:\n",
    "                    t0 = np.random.uniform(lc['TIME'][0], lc['TIME'][-1])\n",
    "                    \n",
    "                    # Check if t0 avoids large gaps\n",
    "                    valid_t0 = True\n",
    "                    for index in large_gaps_indices:\n",
    "                        start_time = lc['TIME'][index] - 1\n",
    "                        end_time = lc['TIME'][index + 1] + 1\n",
    "                        if start_time <= t0 <= end_time:\n",
    "                            valid_t0 = False\n",
    "                            break\n",
    "                        elif index < len(lc['TIME']) - 1 and diff[index] > 0.5 and abs(t0 - lc['TIME'][index + 1]) < 1.5:\n",
    "                            valid_t0 = False\n",
    "                            break\n",
    "                        elif index > 0 and diff[index - 1] > 0.5 and abs(t0 - lc['TIME'][index]) < 1.5:\n",
    "                            valid_t0 = False\n",
    "                            break\n",
    "                        elif t0 <= lc['TIME'][0] + 2 or t0 >= lc['TIME'][-1] - 2:\n",
    "                            valid_t0 = False\n",
    "                            break\n",
    "\n",
    "                    if valid_t0:\n",
    "                        window_start = np.argmin(np.abs(time - (t0 - window_size * np.median(np.diff(time)))))\n",
    "                        window_end = np.argmin(np.abs(time - (t0 + window_size * np.median(np.diff(time))))) + 1\n",
    "                        if np.all(real[window_start:window_end] == 1):\n",
    "                            valid_time_found = True\n",
    "\n",
    "                # Create transit model\n",
    "                params = batman.TransitParams()\n",
    "                params.t0 = t0\n",
    "                random_value = np.random.uniform(0, 1)\n",
    "                params.per = period_min * (period_max / period_min) ** (random_value ** (1 / alpha))\n",
    "                p.append(params.per)\n",
    "                params.rp = np.sqrt(A)\n",
    "                params.a = ((params.per * 86400.) ** 2 * const.G.value * m_star * const.M_sun.value / \n",
    "                            (4 * np.pi**2)) ** (1/3) / (r_star * const.R_sun.value)\n",
    "                params.inc = 90\n",
    "                params.ecc = 0\n",
    "                params.w = 90\n",
    "                params.limb_dark = \"linear\"\n",
    "                params.u = [np.random.uniform(0.2, 0.8)] \n",
    "\n",
    "                m = batman.TransitModel(params, time, fac=0.02)\n",
    "                model = m.light_curve(params)\n",
    "\n",
    "                # Inject model into lightcurve\n",
    "                injected_flux = model * (flux / np.nanmedian(flux))\n",
    "\n",
    "\n",
    "                ### NORMALISE INJECTED_FLUX\n",
    "                f = injected_flux - 1 \n",
    "                f = f/np.nanstd(f)\n",
    "                f = 1 + f\n",
    "                injected_flux = (f - np.min(f)) / (np.max(f) - np.min(f))\n",
    "\n",
    "                if np.all(injected_flux >= 0):\n",
    "                    valid_model_found = True\n",
    "                else:\n",
    "                    retry_count += 1\n",
    "\n",
    "            except TimeoutError:\n",
    "                retry_count += 1\n",
    "            except Exception as e:\n",
    "                if \"Convergence failure\" in str(e):\n",
    "                    retry_count += 1\n",
    "                else:\n",
    "                    raise e\n",
    "            finally:\n",
    "                signal.alarm(0)\n",
    "\n",
    "        if not valid_model_found:\n",
    "            print(f\"Failed to create a valid model for file {target_ID} after {max_retries} attempts. Skipping...\")\n",
    "            continue\n",
    "\n",
    "\n",
    "        \n",
    "        \n",
    "        # Save injected lightcurve\n",
    "        fluxerror = flux_error / np.nanmedian(flux)\n",
    "        np.save(f\"{folder2}/{tic}_sector{sector}.npy\", \n",
    "                np.array([time[real == 1], injected_flux[real == 1], fluxerror[real == 1], real[real == 1], model[real == 1]]))\n",
    "\n",
    "        # Update catalogs\n",
    "        times2.append(t0)\n",
    "        ticid2.append(tic)\n",
    "        snr2.append(random_snr)\n",
    "        rms_cat2.append(rms)\n",
    "\n",
    "    except Exception as e:\n",
    "        print(f\"Exception occurred for file {target_ID}: {e}. Continuing...\")\n",
    "        continue"
   ]
  },
  {
   "cell_type": "markdown",
   "id": "02cb80f9-e3cc-47fe-9446-418a90e92942",
   "metadata": {},
   "source": [
    "### Historgram of periods"
   ]
  },
  {
   "cell_type": "code",
   "execution_count": null,
   "id": "e094a847-899c-49b8-a4b1-8a29d7b0fc9a",
   "metadata": {},
   "outputs": [],
   "source": [
    "plt.hist(p,bins=50)\n",
    "plt.show()"
   ]
  },
  {
   "cell_type": "code",
   "execution_count": null,
   "id": "bc684ff6-faab-4e77-ac5a-f764e42897dd",
   "metadata": {},
   "outputs": [],
   "source": [
    "data2 = pd.DataFrame(data=[ticid,times]).T\n",
    "data2.columns = ['TIC','tpeak']\n",
    "data2.TIC = data2.TIC.astype(int)\n",
    "table = Table.from_pandas(data2)\n",
    "\n",
    "table.write(f'../catalogs/{name2}.txt', format='ascii', overwrite=True) "
   ]
  },
  {
   "cell_type": "code",
   "execution_count": null,
   "id": "f626b3f8-7a6c-4b00-9559-8a7f75c2b782",
   "metadata": {},
   "outputs": [],
   "source": [
    "ds2 = stella.FlareDataSet(fn_dir=f'/Users/azib/Documents/open_source/nets2/models/{name2}',\n",
    "                         catalog=f'/Users/azib/Documents/open_source/nets2/catalogs/{name2}.txt',cadences=168,training=0.8,merge_datasets=False,frac_balance=0.7)"
   ]
  },
  {
   "cell_type": "code",
   "execution_count": null,
   "id": "b010b06a-014e-44ad-8e59-c0aa6e299d8d",
   "metadata": {
    "scrolled": true
   },
   "outputs": [],
   "source": [
    "m = 19 \n",
    "\n",
    "ind_pc2 = np.where(ds2.train_labels==1)[0] # Flares\n",
    "ind_nc2 = np.where(ds2.train_labels==0)[0] # No flares\n",
    "\n",
    "fig, (ax1, ax2) = plt.subplots(ncols=2, figsize=(10,3),\n",
    "                               sharex=True, sharey=True)\n",
    "ax1.plot(ds2.train_data[ind_pc2[m]], 'r')\n",
    "ax1.set_title('Planet')\n",
    "ax1.set_xlabel('Cadences')\n",
    "ax2.plot(ds2.train_data[ind_nc2[m]], 'k')\n",
    "ax2.set_title('No Planet')\n",
    "ax2.set_xlabel('Cadences');"
   ]
  },
  {
   "cell_type": "code",
   "execution_count": null,
   "id": "6fc1b11d-4131-41bf-88e8-b4f09aad820e",
   "metadata": {},
   "outputs": [],
   "source": [
    "### Plots of Exocomet Models"
   ]
  },
  {
   "cell_type": "code",
   "execution_count": null,
   "id": "1cabec4c-9719-4db0-a9a7-71e51bfba32d",
   "metadata": {},
   "outputs": [],
   "source": [
    "save_plots_name2 = f'../modelplots/{name2}/'\n",
    "os.makedirs(save_plots_name2,exist_ok=True)\n",
    "\n",
    "\n",
    "dsmodels2 = ds2.train_data[ind_pc]\n",
    "dsnomodels2 = ds2.train_data[ind_nc]\n",
    "\n",
    "num_sets = dsmodels2.shape[0] // 100\n",
    "\n",
    "for set_index in tqdm(range(num_sets)):\n",
    "    start_index = set_index * 100\n",
    "    end_index = min((set_index + 1) * 100, dsmodels2.shape[0])  # Ensure not to exceed the length of the data\n",
    "\n",
    "    # Create a new 10x10 grid of subplots for each set\n",
    "    fig, axs = plt.subplots(10, 10, figsize=(20, 20))\n",
    "\n",
    "    # Flatten the axes array for easier iteration\n",
    "    axs = axs.flatten()\n",
    "\n",
    "    # Iterate over the elements in the current set and plot each in the grid\n",
    "    for i in range(start_index, end_index):\n",
    "        plot_index = i % 100  # Calculate the index within the current grid\n",
    "        axs[plot_index].plot(dsmodels2[i, :, 0])  # Assuming you want to plot the first dimension of your array\n",
    "        axs[plot_index].set_title(f\"Plot {i}\")  # Title for each subplot\n",
    "\n",
    "    # Hide any remaining empty subplots\n",
    "    for j in range(end_index - start_index, len(axs)):\n",
    "        axs[j].axis('off')\n",
    "\n",
    "    \n",
    "    plt.tight_layout()  # Adjust layout\n",
    "    plt.savefig(f'{save_plots_name2}/{start_index}-{end_index}.png',dpi=200,bbox_inches='tight')\n",
    "    plt.close() \n",
    "    "
   ]
  }
 ],
 "metadata": {
  "kernelspec": {
   "display_name": "nets2",
   "language": "python",
   "name": "nets2"
  },
  "language_info": {
   "codemirror_mode": {
    "name": "ipython",
    "version": 3
   },
   "file_extension": ".py",
   "mimetype": "text/x-python",
   "name": "python",
   "nbconvert_exporter": "python",
   "pygments_lexer": "ipython3",
   "version": "3.8.19"
  }
 },
 "nbformat": 4,
 "nbformat_minor": 5
}
