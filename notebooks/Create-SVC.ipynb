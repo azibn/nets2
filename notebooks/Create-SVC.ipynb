{
 "cells": [
  {
   "cell_type": "code",
   "execution_count": 10,
   "id": "4d0b6e0a-e5ce-476e-855d-32d2e153c1af",
   "metadata": {},
   "outputs": [],
   "source": [
    "import pandas as pd\n",
    "import os, sys\n",
    "current_dir = os.getcwd()\n",
    "while os.path.basename(current_dir) != 'nets2':\n",
    "    current_dir = os.path.dirname(current_dir)\n",
    "    if current_dir == os.path.dirname(current_dir): \n",
    "        raise Exception(\"'nets2' directory not found in parent directories\")\n",
    "    \n",
    "sys.path.insert(1, os.path.join(current_dir, 'scripts'))\n",
    "sys.path.insert(1, os.path.join(current_dir, 'stella'))\n",
    "\n",
    "from utils import *\n",
    "from tqdm import tqdm\n",
    "import random\n",
    "import glob\n",
    "import re"
   ]
  },
  {
   "cell_type": "code",
   "execution_count": 11,
   "id": "af42b235-633e-4e18-b644-d88457f53bfc",
   "metadata": {},
   "outputs": [
    {
     "data": {
      "text/plain": [
       "['../models/svc-s18/418034045_sector07.npy',\n",
       " '../models/svc-s18/85431097_sector07.npy']"
      ]
     },
     "execution_count": 11,
     "metadata": {},
     "output_type": "execute_result"
    }
   ],
   "source": [
    "files = glob.glob('../models/svc-s18/*')\n",
    "files[0:2]"
   ]
  },
  {
   "cell_type": "code",
   "execution_count": 18,
   "id": "e89e58f8-5b39-4906-8d55-386be6f16780",
   "metadata": {},
   "outputs": [],
   "source": [
    "def extract_id(filename):\n",
    "    pattern = r'/(\\d+)_'\n",
    "    match = re.search(pattern, filename)\n",
    "    if match:\n",
    "        return match.group(1)\n",
    "    return None\n",
    "\n",
    "def generate_random_times(files, num_samples=10, max_retries=10):\n",
    "    result = []\n",
    "    for file in tqdm(files):\n",
    "        data = np.load(file)\n",
    "        tic = extract_id(file)\n",
    "        \n",
    "        times = data[0]\n",
    "        diff = np.diff(times)\n",
    "        large_gaps_indices = np.where(diff > 0.5)[0]\n",
    "        \n",
    "        for _ in range(num_samples):\n",
    "            valid_time_found = False\n",
    "            retry_count = 0\n",
    "            while not valid_time_found and retry_count < max_retries:\n",
    "                t0 = np.random.uniform(times[0], times[-1])\n",
    "                valid_t0 = True\n",
    "                \n",
    "                for index in large_gaps_indices:\n",
    "                    start_time = times[index] - 1\n",
    "                    end_time = times[index + 1] + 1\n",
    "                    if start_time <= t0 <= end_time:\n",
    "                        valid_t0 = False\n",
    "                        break\n",
    "                    elif index < len(times) - 1 and diff[index] > 0.5 and abs(t0 - times[index + 1]) < 1.5:\n",
    "                        valid_t0 = False\n",
    "                        break\n",
    "                    elif index > 0 and diff[index - 1] > 0.5 and abs(t0 - times[index]) < 1.5:\n",
    "                        valid_t0 = False\n",
    "                        break\n",
    "                \n",
    "                if t0 <= times[0] + 1 or t0 >= times[-1] - 1.5:\n",
    "                    valid_t0 = False\n",
    "                \n",
    "                if valid_t0:\n",
    "                    valid_time_found = True\n",
    "                    result.append((tic, t0))\n",
    "                else:\n",
    "                    retry_count += 1\n",
    "            \n",
    "            if not valid_time_found:\n",
    "                print(f\"Warning: Could not find a valid time for {tic} after {max_retries} attempts.\")\n",
    "    df = pd.DataFrame(result,columns=['TIC','tpeak'])\n",
    "    return df"
   ]
  },
  {
   "cell_type": "code",
   "execution_count": 22,
   "id": "0a0ffd2f-927b-4e59-86ef-d5e73fa0155f",
   "metadata": {},
   "outputs": [
    {
     "name": "stderr",
     "output_type": "stream",
     "text": [
      "100%|███████████████████████████████████████████████████████████████████████████████████████████████████████████████████████████████████████████████████████████████████████████████████████| 1725/1725 [00:01<00:00, 1092.17it/s]\n"
     ]
    }
   ],
   "source": [
    "df = generate_random_times(files,num_samples=7)"
   ]
  },
  {
   "cell_type": "code",
   "execution_count": 23,
   "id": "3a7225a9-8cca-4d17-9013-cf12161d3e70",
   "metadata": {},
   "outputs": [],
   "source": [
    "df.to_csv('../catalogs/svc-s18-sample.txt',index=None,sep=' ')"
   ]
  },
  {
   "cell_type": "code",
   "execution_count": 26,
   "id": "b64f9ba7-35ad-4c7d-8d12-8742fde849b1",
   "metadata": {},
   "outputs": [
    {
     "data": {
      "text/plain": [
       "Index(['tess_id', 'Solution', 'Sector', 'period_var_1', 'period_var_2',\n",
       "       'period_var_uncert_1', 'period_var_uncert_2', 'amp_var_1', 'amp_var_2',\n",
       "       'amp_var_uncert_1',\n",
       "       ...\n",
       "       'splists', 'e_RA', 'e_Dec', 'RA_orig', 'Dec_orig', 'e_RA_orig',\n",
       "       'e_Dec_orig', 'raddflag', 'wdflag', 'objID'],\n",
       "      dtype='object', length=168)"
      ]
     },
     "execution_count": 26,
     "metadata": {},
     "output_type": "execute_result"
    }
   ],
   "source": [
    "pd.read_csv('../catalogs/svc.csv').columns"
   ]
  },
  {
   "cell_type": "code",
   "execution_count": null,
   "id": "a2a96029-70c0-47d6-989d-dbb8989a4294",
   "metadata": {},
   "outputs": [],
   "source": []
  }
 ],
 "metadata": {
  "kernelspec": {
   "display_name": "nets2",
   "language": "python",
   "name": "nets2"
  },
  "language_info": {
   "codemirror_mode": {
    "name": "ipython",
    "version": 3
   },
   "file_extension": ".py",
   "mimetype": "text/x-python",
   "name": "python",
   "nbconvert_exporter": "python",
   "pygments_lexer": "ipython3",
   "version": "3.8.19"
  }
 },
 "nbformat": 4,
 "nbformat_minor": 5
}
