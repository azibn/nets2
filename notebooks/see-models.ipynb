{
 "cells": [
  {
   "cell_type": "markdown",
   "id": "1c446b56-20ca-4ea2-b2cf-9e3e9a356933",
   "metadata": {},
   "source": [
    "# Model plots"
   ]
  },
  {
   "cell_type": "code",
   "execution_count": 11,
   "id": "21a481fa-5411-4435-a394-ee558da2fd09",
   "metadata": {},
   "outputs": [],
   "source": [
    "import stella\n",
    "import matplotlib.pyplot as plt\n",
    "import os\n",
    "import numpy as np\n",
    "from tqdm import tqdm"
   ]
  },
  {
   "cell_type": "code",
   "execution_count": 2,
   "id": "c4ad8722-bd6e-4f1a-8c3c-67e4475b80df",
   "metadata": {},
   "outputs": [
    {
     "name": "stdout",
     "output_type": "stream",
     "text": [
      "Reading in training set files.\n"
     ]
    },
    {
     "name": "stderr",
     "output_type": "stream",
     "text": [
      "100%|██████████████████████████████████| 9990/9990 [00:02<00:00, 3589.88it/s]\n"
     ]
    },
    {
     "name": "stdout",
     "output_type": "stream",
     "text": [
      "Number of positive class training data: 7752\n",
      "Number of negative class training data: 7011\n",
      "Number of positive class validation data: 969\n",
      "Number of negative class validation data: 876\n",
      "Size of augmented data (training set only): 0\n",
      "Class label (training): 0, Count: 7011\n",
      "Class label (training): 1, Count: 7752\n",
      "Class label (validation): 0, Count: 876\n",
      "Class label (validation): 1, Count: 969\n",
      "Total size of training set: 14763\n",
      "Total size of validation set: 1845\n",
      "Total size of test set: 1846\n",
      "Approximate class imbalance: -11.0\n"
     ]
    }
   ],
   "source": [
    "ds = stella.FlareDataSet(fn_dir='/Users/azib/documents/open_source/nets2/models/comets10k-newtails/',catalog='/Users/azib/documents/open_source/nets2/comets10k-newtails.txt',cadences=168)"
   ]
  },
  {
   "cell_type": "code",
   "execution_count": 12,
   "id": "9eb43d50-d2ee-4c2f-9e8f-c5a74eab7c08",
   "metadata": {},
   "outputs": [],
   "source": [
    "ind_pc = np.where(ds.train_labels == 1)[0]"
   ]
  },
  {
   "cell_type": "code",
   "execution_count": 15,
   "id": "c1db7328-6814-490b-8f24-e218f90effae",
   "metadata": {},
   "outputs": [],
   "source": [
    "# os.makedirs('exocomets-newtails/',exist_ok=True)\n",
    "# dsmodels = ds.train_data[ind_pc]\n",
    "# num_sets = dsmodels.shape[0] // 100\n",
    "\n",
    "# for set_index in tqdm(range(num_sets)):\n",
    "#     start_index = set_index * 100\n",
    "#     end_index = min((set_index + 1) * 100, dsmodels.shape[0])  # Ensure not to exceed the length of the data\n",
    "\n",
    "#     # Create a new 10x10 grid of subplots for each set\n",
    "#     fig, axs = plt.subplots(10, 10, figsize=(20, 20))\n",
    "\n",
    "#     # Flatten the axes array for easier iteration\n",
    "#     axs = axs.flatten()\n",
    "\n",
    "#     # Iterate over the elements in the current set and plot each in the grid\n",
    "#     for i in range(start_index, end_index):\n",
    "#         plot_index = i % 100  # Calculate the index within the current grid\n",
    "#         axs[plot_index].plot(dsmodels[i, :, 0])  # Assuming you want to plot the first dimension of your array\n",
    "#         axs[plot_index].set_title(f\"Plot {i+1}\")  # Title for each subplot\n",
    "\n",
    "#     # Hide any remaining empty subplots\n",
    "#     for j in range(end_index - start_index, len(axs)):\n",
    "#         axs[j].axis('off')\n",
    "\n",
    "    \n",
    "#     plt.tight_layout()  # Adjust layout\n",
    "#     plt.savefig(f'exocomets-newtails/{start_index}-{end_index}.png',dpi=200)\n",
    "#     plt.close()"
   ]
  },
  {
   "cell_type": "code",
   "execution_count": 16,
   "id": "ee5bb512-c468-4b30-9eb5-019c276294ed",
   "metadata": {},
   "outputs": [],
   "source": [
    "import glob"
   ]
  },
  {
   "cell_type": "code",
   "execution_count": 19,
   "id": "d7ca1059-b721-49b7-8dc9-c81864876dca",
   "metadata": {},
   "outputs": [],
   "source": [
    "files = glob.glob('../models/comets10k/*')"
   ]
  },
  {
   "cell_type": "code",
   "execution_count": 21,
   "id": "7aa44f2e-707c-4177-a255-61d58e490f15",
   "metadata": {},
   "outputs": [],
   "source": [
    "# for i in files[0:50]:\n",
    "#     file = np.load(i,allow_pickle=True)\n",
    "#     plt.plot(file[0],file[1])\n",
    "#     plt.show()"
   ]
  },
  {
   "cell_type": "code",
   "execution_count": null,
   "id": "1820387b-0b1c-4100-99ea-42f788f052b3",
   "metadata": {},
   "outputs": [],
   "source": []
  }
 ],
 "metadata": {
  "kernelspec": {
   "display_name": "nets2",
   "language": "python",
   "name": "nets2"
  },
  "language_info": {
   "codemirror_mode": {
    "name": "ipython",
    "version": 3
   },
   "file_extension": ".py",
   "mimetype": "text/x-python",
   "name": "python",
   "nbconvert_exporter": "python",
   "pygments_lexer": "ipython3",
   "version": "3.8.19"
  }
 },
 "nbformat": 4,
 "nbformat_minor": 5
}
