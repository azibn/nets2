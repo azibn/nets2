{
 "cells": [
  {
   "cell_type": "markdown",
   "id": "d2e1557d-4252-4eae-9738-88f57005b765",
   "metadata": {},
   "source": [
    "# Results"
   ]
  },
  {
   "cell_type": "code",
   "execution_count": 1,
   "id": "f1f2405b-2743-4d36-8eed-f9f2364b0810",
   "metadata": {},
   "outputs": [],
   "source": [
    "import pickle\n",
    "import pandas as pd\n",
    "import matplotlib.pyplot as plt\n",
    "import numpy as np"
   ]
  },
  {
   "cell_type": "code",
   "execution_count": null,
   "id": "daf80b94-7dd1-42b1-b8aa-a26d0732acdd",
   "metadata": {},
   "outputs": [],
   "source": [
    "with open('') as f:\n",
    "    data = pickle.dump(f)"
   ]
  },
  {
   "cell_type": "markdown",
   "id": "4a869270-8fb6-4925-bdc1-a1c0a073c67d",
   "metadata": {},
   "source": [
    "## MAD cut for common times"
   ]
  },
  {
   "cell_type": "code",
   "execution_count": null,
   "id": "f3799d1d-bfd7-4af5-8480-b5116e547692",
   "metadata": {},
   "outputs": [],
   "source": []
  },
  {
   "cell_type": "code",
   "execution_count": null,
   "id": "e357e1bf-eec1-4e4a-89eb-8a172b5d3507",
   "metadata": {},
   "outputs": [],
   "source": []
  },
  {
   "cell_type": "markdown",
   "id": "e6066967-ea64-48ac-b1a7-1a3b12dacec0",
   "metadata": {},
   "source": [
    "## Identifying \"next highest probability\""
   ]
  },
  {
   "cell_type": "code",
   "execution_count": null,
   "id": "b74fef83-dc9f-4aa6-93d3-6e191f427743",
   "metadata": {},
   "outputs": [],
   "source": [
    "def find_next_best_prediction(df):\n",
    "    def get_arrays(row):\n",
    "        time = np.array(row['time'])\n",
    "        flux = np.array(row['flux'])\n",
    "        pred = np.array(row['preds'])\n",
    "        tpeak = row['tpred']  # Assuming 'time' column contains tpeak\n",
    "\n",
    "        # Create a mask to remove tpeak\n",
    "        mask = time != tpeak\n",
    "\n",
    "        # Apply mask to all arrays\n",
    "        time_filtered = time[mask]\n",
    "        flux_filtered = flux[mask]\n",
    "        pred_filtered = pred[mask]\n",
    "\n",
    "        # Find the index of the next highest prediction\n",
    "        next_best_index = np.argmax(pred_filtered)\n",
    "\n",
    "        return pd.Series({\n",
    "            'next_best_time': time_filtered[next_best_index],\n",
    "            'next_best_flux': flux_filtered[next_best_index],\n",
    "            'next_best_pred': pred_filtered[next_best_index]\n",
    "        })\n",
    "\n",
    "    # Apply the function to each row\n",
    "    result = df.apply(get_arrays, axis=1)\n",
    "\n",
    "    # Add the results to the original dataframe\n",
    "    df[['next_best_time', 'next_best_flux', 'next_best_pred']] = result\n",
    "\n",
    "    return df"
   ]
  }
 ],
 "metadata": {
  "kernelspec": {
   "display_name": "nets2",
   "language": "python",
   "name": "nets2"
  },
  "language_info": {
   "codemirror_mode": {
    "name": "ipython",
    "version": 3
   },
   "file_extension": ".py",
   "mimetype": "text/x-python",
   "name": "python",
   "nbconvert_exporter": "python",
   "pygments_lexer": "ipython3",
   "version": "3.8.19"
  }
 },
 "nbformat": 4,
 "nbformat_minor": 5
}
